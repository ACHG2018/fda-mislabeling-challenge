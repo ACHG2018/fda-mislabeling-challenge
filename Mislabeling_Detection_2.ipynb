{
 "cells": [
  {
   "cell_type": "markdown",
   "metadata": {},
   "source": [
    "# Multi-omics Enabled Sample Mislabeling Correction Challenge"
   ]
  },
  {
   "cell_type": "markdown",
   "metadata": {},
   "source": [
    "This notebook is using various classifiers in an attempt to detect sample misclassifications\n",
    "\n",
    "Details about this challenge: https://precision.fda.gov/challenges"
   ]
  },
  {
   "cell_type": "markdown",
   "metadata": {},
   "source": [
    "## Solution"
   ]
  },
  {
   "cell_type": "markdown",
   "metadata": {},
   "source": [
    "Import libraries"
   ]
  },
  {
   "cell_type": "code",
   "execution_count": 1,
   "metadata": {},
   "outputs": [],
   "source": [
    "import os\n",
    "import sys\n",
    "import getopt\n",
    "import re\n",
    "import pandas as pd\n",
    "from sklearn.model_selection import cross_val_score, GridSearchCV, cross_validate, train_test_split\n",
    "from sklearn.metrics import accuracy_score, classification_report\n",
    "from sklearn.ensemble import RandomForestClassifier, AdaBoostClassifier\n",
    "from sklearn.impute import SimpleImputer\n",
    "from sklearn.svm import SVC\n",
    "from sklearn.metrics import f1_score\n",
    "from sklearn import preprocessing\n",
    "from sklearn.neighbors import KNeighborsClassifier\n",
    "from sklearn.linear_model import LogisticRegression"
   ]
  },
  {
   "cell_type": "markdown",
   "metadata": {},
   "source": [
    "Load data"
   ]
  },
  {
   "cell_type": "code",
   "execution_count": 37,
   "metadata": {
    "scrolled": true
   },
   "outputs": [],
   "source": [
    "labels = pd.read_csv(\"challenge_data/train_cli_corrected.tsv\", sep=\"\\t\", index_col=\"sample\")\n",
    "prot = pd.read_csv(\"challenge_data/train_pro_corrected.tsv\", sep=\"\\t\")\n",
    "rna = pd.read_csv(\"challenge_data/train_rna_corrected.tsv\", sep=\"\\t\")\n",
    "# Transpose proteins matrix\n",
    "prot = prot.T\n",
    "rna = rna.T\n",
    "# Misclassification labels are not needed anymore, the data has been manually corrected according\n",
    "# to the misclassification labels\n",
    "#misClassified = pd.read_csv(\"challenge_data/sum_tab_1.csv\", sep=\",\")\n",
    "#misClassified_2 = pd.read_csv(\"challenge_data/sum_tab_2.csv\", sep=\",\")\n",
    "\n",
    "\n",
    "# What if missing values are not really missing values but missing genes (Y chrom for instance)\n",
    "prot = prot.fillna(0)\n",
    "rna = rna.fillna(0)"
   ]
  },
  {
   "cell_type": "markdown",
   "metadata": {},
   "source": [
    "Select only rows which were correctly classified (matches) for machine learning"
   ]
  },
  {
   "cell_type": "markdown",
   "metadata": {},
   "source": [
    "## Explore Parameters"
   ]
  },
  {
   "cell_type": "markdown",
   "metadata": {},
   "source": [
    "Now, it's time to figure out the best parameters for each model"
   ]
  },
  {
   "cell_type": "code",
   "execution_count": 68,
   "metadata": {},
   "outputs": [],
   "source": [
    "gender = labels.loc[:,\"gender\"]\n",
    "msi = labels.loc[:,\"msi\"]"
   ]
  },
  {
   "cell_type": "code",
   "execution_count": 69,
   "metadata": {},
   "outputs": [],
   "source": [
    "def bestParams(x, y, clf, grid):\n",
    "    grid_search = GridSearchCV(clf, param_grid=grid, cv=10, iid=False)\n",
    "    grid_search.fit(x, y)\n",
    "    print(\"Tuned params:\", grid_search.best_params_)\n",
    "    print(\"Tuned best acc:\", grid_search.best_score_)"
   ]
  },
  {
   "cell_type": "markdown",
   "metadata": {},
   "source": [
    "### Random Forest"
   ]
  },
  {
   "cell_type": "code",
   "execution_count": 71,
   "metadata": {},
   "outputs": [
    {
     "name": "stdout",
     "output_type": "stream",
     "text": [
      "Best params for gender\n",
      "('Tuned params:', {'n_estimators': 60, 'max_depth': 70})\n",
      "('Tuned best acc:', 0.7101190476190476)\n",
      "Best params for msi\n",
      "('Tuned params:', {'n_estimators': 40, 'max_depth': 45})\n",
      "('Tuned best acc:', 0.8523809523809524)\n",
      "Best params for gender\n",
      "('Tuned params:', {'n_estimators': 70, 'max_depth': 60})\n",
      "('Tuned best acc:', 0.8376984126984126)\n",
      "Best params for msi\n",
      "('Tuned params:', {'n_estimators': 30, 'max_depth': 75})\n",
      "('Tuned best acc:', 0.9625)\n"
     ]
    }
   ],
   "source": [
    "grid = {\n",
    "    \"n_estimators\": range(25, 75, 5),\n",
    "    \"max_depth\": range(40, 80, 5)\n",
    "}\n",
    "\n",
    "print(\"Best params for gender\")\n",
    "bestParams(prot, gender, RandomForestClassifier(), grid)\n",
    "print(\"Best params for msi\")\n",
    "bestParams(prot, msi, RandomForestClassifier(), grid)\n",
    "\n",
    "print(\"Best params for gender\")\n",
    "bestParams(rna, gender, RandomForestClassifier(), grid)\n",
    "print(\"Best params for msi\")\n",
    "bestParams(rna, msi, RandomForestClassifier(), grid)"
   ]
  },
  {
   "cell_type": "markdown",
   "metadata": {},
   "source": [
    "### SVM"
   ]
  },
  {
   "cell_type": "code",
   "execution_count": 72,
   "metadata": {},
   "outputs": [
    {
     "name": "stdout",
     "output_type": "stream",
     "text": [
      "Best params for gender\n",
      "('Tuned params:', {'kernel': 'rbf', 'C': 10, 'gamma': 'auto'})\n",
      "('Tuned best acc:', 0.7132936507936508)\n",
      "Best params for msi\n",
      "('Tuned params:', {'kernel': 'rbf', 'C': 10, 'gamma': 'auto'})\n",
      "('Tuned best acc:', 0.8492063492063492)\n",
      "Best params for gender\n",
      "('Tuned params:', {'kernel': 'linear', 'C': 0.01, 'gamma': 'auto'})\n",
      "('Tuned best acc:', 0.8787698412698413)\n",
      "Best params for msi\n",
      "('Tuned params:', {'kernel': 'linear', 'C': 0.01, 'gamma': 'auto'})\n",
      "('Tuned best acc:', 0.975)\n"
     ]
    }
   ],
   "source": [
    "grid = {\n",
    "    \"C\": [pow(10,i) for i in range(-2,4)],\n",
    "    \"kernel\": [\"linear\", \"rbf\"],\n",
    "    \"gamma\": [\"auto\", \"scale\"]\n",
    "}\n",
    "print(\"Best params for gender\")\n",
    "bestParams(prot, gender, SVC(), grid)\n",
    "print(\"Best params for msi\")\n",
    "bestParams(prot, msi, SVC(), grid)\n",
    "\n",
    "print(\"Best params for gender\")\n",
    "bestParams(rna, gender, SVC(), grid)\n",
    "print(\"Best params for msi\")\n",
    "bestParams(rna, msi, SVC(), grid)"
   ]
  },
  {
   "cell_type": "markdown",
   "metadata": {},
   "source": [
    "### KNN"
   ]
  },
  {
   "cell_type": "code",
   "execution_count": 73,
   "metadata": {},
   "outputs": [
    {
     "name": "stdout",
     "output_type": "stream",
     "text": [
      "Best params for gender\n",
      "('Tuned params:', {'n_neighbors': 2})\n",
      "('Tuned best acc:', 0.7351190476190477)\n",
      "Best params for msi\n",
      "('Tuned params:', {'n_neighbors': 11})\n",
      "('Tuned best acc:', 0.8541666666666666)\n",
      "Best params for gender\n",
      "('Tuned params:', {'n_neighbors': 14})\n",
      "('Tuned best acc:', 0.6944444444444444)\n",
      "Best params for msi\n",
      "('Tuned params:', {'n_neighbors': 3})\n",
      "('Tuned best acc:', 0.95)\n"
     ]
    }
   ],
   "source": [
    "grid = {\n",
    "    \"n_neighbors\": range(1,20)\n",
    "}\n",
    "print(\"Best params for gender\")\n",
    "bestParams(prot, gender, KNeighborsClassifier(), grid)\n",
    "print(\"Best params for msi\")\n",
    "bestParams(prot, msi, KNeighborsClassifier(), grid)\n",
    "\n",
    "print(\"Best params for gender\")\n",
    "bestParams(rna, gender, KNeighborsClassifier(), grid)\n",
    "print(\"Best params for msi\")\n",
    "bestParams(rna, msi, KNeighborsClassifier(), grid)"
   ]
  },
  {
   "cell_type": "markdown",
   "metadata": {},
   "source": [
    "### ADA Boost"
   ]
  },
  {
   "cell_type": "code",
   "execution_count": 74,
   "metadata": {},
   "outputs": [
    {
     "name": "stdout",
     "output_type": "stream",
     "text": [
      "Best params for gender\n",
      "('Tuned params:', {'n_estimators': 40})\n",
      "('Tuned best acc:', 0.8376984126984126)\n",
      "Best params for msi\n",
      "('Tuned params:', {'n_estimators': 40})\n",
      "('Tuned best acc:', 0.8492063492063492)\n",
      "Best params for gender\n",
      "('Tuned params:', {'n_estimators': 50})\n",
      "('Tuned best acc:', 0.8777777777777779)\n",
      "Best params for msi\n",
      "('Tuned params:', {'n_estimators': 40})\n",
      "('Tuned best acc:', 0.8875)\n"
     ]
    }
   ],
   "source": [
    "grid = {\n",
    "    \"n_estimators\": range(40, 60, 5)\n",
    "}\n",
    "print(\"Best params for gender\")\n",
    "bestParams(prot, gender, AdaBoostClassifier(), grid)\n",
    "print(\"Best params for msi\")\n",
    "bestParams(prot, msi, AdaBoostClassifier(), grid)\n",
    "\n",
    "print(\"Best params for gender\")\n",
    "bestParams(rna, gender, AdaBoostClassifier(), grid)\n",
    "print(\"Best params for msi\")\n",
    "bestParams(rna, msi, AdaBoostClassifier(), grid)"
   ]
  },
  {
   "cell_type": "markdown",
   "metadata": {},
   "source": [
    "## Final Classification"
   ]
  },
  {
   "cell_type": "markdown",
   "metadata": {},
   "source": [
    "Train all classifiers with best parameters (discovered by grid search) and run them on the test set.\n",
    "Each time, use a different subset (80%) to give each model slightly different data to reduce overfitting"
   ]
  },
  {
   "cell_type": "code",
   "execution_count": 113,
   "metadata": {},
   "outputs": [],
   "source": [
    "def finalPredict(x_train, y_train, x_test, y_test, clf):\n",
    "    x_train_subset, a, y_train_subset, b = train_test_split(x_train, y_train, test_size=0.2, shuffle=True)\n",
    "    clf.fit(x_train_subset, y_train_subset)\n",
    "    y_predict = clf.predict(x_test)\n",
    "    print(\"Test accuracy:\", accuracy_score(y_test, y_predict))\n",
    "    return y_predict"
   ]
  },
  {
   "cell_type": "markdown",
   "metadata": {},
   "source": [
    "Predict with all for proteins"
   ]
  },
  {
   "cell_type": "code",
   "execution_count": 162,
   "metadata": {},
   "outputs": [
    {
     "name": "stdout",
     "output_type": "stream",
     "text": [
      "('Test accuracy:', 0.3875)\n",
      "('Test accuracy:', 0.8375)\n",
      "('Test accuracy:', 0.35)\n",
      "('Test accuracy:', 0.85)\n",
      "('Test accuracy:', 0.3875)\n",
      "('Test accuracy:', 0.7875)\n",
      "('Test accuracy:', 0.725)\n",
      "('Test accuracy:', 0.8375)\n"
     ]
    }
   ],
   "source": [
    "# Load test data in the same way train data was loaded\n",
    "labels_test = pd.read_csv(\"challenge_data/test_cli.tsv\", sep=\"\\t\", index_col=\"sample\")\n",
    "proteins_test = pd.read_csv(\"challenge_data/test_pro.tsv\", sep=\"\\t\")\n",
    "proteins_test = proteins_test.T\n",
    "proteins_test = proteins_test.fillna(0)\n",
    "\n",
    "gender_test = labels_test.loc[:,\"gender\"]\n",
    "msi_test = labels_test.loc[:,\"msi\"]\n",
    "\n",
    "predictions_prot =  [None] * 8\n",
    "\n",
    "predictions_prot[0] = finalPredict(prot, gender, proteins_test, gender_test, RandomForestClassifier(n_estimators = 60, max_depth = 70))\n",
    "predictions_prot[4] = finalPredict(prot, msi, proteins_test, msi_test, RandomForestClassifier(n_estimators = 40, max_depth = 45))\n",
    "\n",
    "predictions_prot[1] = finalPredict(prot, gender, proteins_test, gender_test, SVC(C=10, kernel=\"rbf\", gamma=\"auto\"))\n",
    "predictions_prot[5] = finalPredict(prot, msi, proteins_test, msi_test, SVC(C=10, kernel=\"linear\", gamma=\"auto\"))\n",
    "\n",
    "predictions_prot[2] = finalPredict(prot, gender, proteins_test, gender_test, KNeighborsClassifier(n_neighbors=2))\n",
    "predictions_prot[6] = finalPredict(prot, msi, proteins_test, msi_test, KNeighborsClassifier(n_neighbors=11))\n",
    "\n",
    "predictions_prot[3] = finalPredict(prot, gender, proteins_test, gender_test, AdaBoostClassifier(n_estimators = 40))\n",
    "predictions_prot[7] = finalPredict(prot, msi, proteins_test, msi_test, AdaBoostClassifier(n_estimators = 40))"
   ]
  },
  {
   "cell_type": "markdown",
   "metadata": {},
   "source": [
    "Predict with all for rna"
   ]
  },
  {
   "cell_type": "code",
   "execution_count": 155,
   "metadata": {},
   "outputs": [
    {
     "name": "stdout",
     "output_type": "stream",
     "text": [
      "('Test accuracy:', 0.4625)\n",
      "('Test accuracy:', 0.875)\n",
      "('Test accuracy:', 0.6375)\n",
      "('Test accuracy:', 0.95)\n",
      "('Test accuracy:', 0.5)\n",
      "('Test accuracy:', 0.925)\n",
      "('Test accuracy:', 0.725)\n",
      "('Test accuracy:', 0.9125)\n"
     ]
    }
   ],
   "source": [
    "# Load test data in the same way train data was loaded\n",
    "labels_test = pd.read_csv(\"challenge_data/test_cli.tsv\", sep=\"\\t\", index_col=\"sample\")\n",
    "rna_test = pd.read_csv(\"challenge_data/test_rna.tsv\", sep=\"\\t\")\n",
    "rna_test = rna_test.T\n",
    "rna_test = rna_test.fillna(0)\n",
    "\n",
    "gender_test = labels_test.loc[:,\"gender\"]\n",
    "msi_test = labels_test.loc[:,\"msi\"]\n",
    "\n",
    "predictions_rna =  [None] * 8\n",
    "\n",
    "predictions_rna[0] = finalPredict(rna, gender, rna_test, gender_test, RandomForestClassifier(n_estimators = 70, max_depth = 60))\n",
    "predictions_rna[4] = finalPredict(rna, msi, rna_test, msi_test, RandomForestClassifier(n_estimators = 30, max_depth = 75))\n",
    "\n",
    "predictions_rna[1] = finalPredict(rna, gender, rna_test, gender_test, SVC(C=0.01, kernel=\"linear\", gamma=\"auto\"))\n",
    "predictions_rna[5] = finalPredict(rna, msi, rna_test, msi_test, SVC(C=0.01, kernel=\"linear\", gamma=\"auto\"))\n",
    "\n",
    "predictions_rna[2] = finalPredict(rna, gender, rna_test, gender_test, KNeighborsClassifier(n_neighbors=14))\n",
    "predictions_rna[6] = finalPredict(rna, msi, rna_test, msi_test, KNeighborsClassifier(n_neighbors=3))\n",
    "\n",
    "predictions_rna[3] = finalPredict(rna, gender, rna_test, gender_test, AdaBoostClassifier(n_estimators = 50))\n",
    "predictions_rna[7] = finalPredict(rna, msi, rna_test, msi_test, AdaBoostClassifier(n_estimators = 40))"
   ]
  },
  {
   "cell_type": "markdown",
   "metadata": {},
   "source": [
    "Save separate predictions for rna and proteins, with a probability of mislabeling"
   ]
  },
  {
   "cell_type": "code",
   "execution_count": 156,
   "metadata": {},
   "outputs": [],
   "source": [
    "def writeSingleOutput(predictions, extenstiveName):\n",
    "\n",
    "\n",
    "    extensiveOut = open(extenstiveName,\"w+\")\n",
    "    names = list(labels_test.index)\n",
    "\n",
    "    extensiveOut.write(\"sample,Test_gender,Test_msi, RandomForest_gender,SVM_gender,KNN_gender,ADA_gender,RandomForest_msi,SVM_msi,KNN_msi,ADA_msi,gender_mislabeled_prob,msi_mislabeld_prob,mislabeled_prob\\n\")\n",
    "\n",
    "    for i in range(len(predictions[0])):\n",
    "        gender_mislabeled = 0\n",
    "        msi_mislabeled = 0\n",
    "\n",
    "        for j in range(0,4):\n",
    "            if (predictions[j][i] != labels_test.iloc[i,0]):\n",
    "                gender_mislabeled += 1\n",
    "\n",
    "        for j in range(4,8):\n",
    "            if (predictions[j][i] != labels_test.iloc[i,1]):\n",
    "                msi_mislabeled += 1\n",
    "\n",
    "        msi_mislabeled /= 4.0\n",
    "        gender_mislabeled /= 4.0\n",
    "\n",
    "        mislabeled = gender_mislabeled\n",
    "        if (msi_mislabeled > mislabeled):\n",
    "            mislabeled = msi_mislabeled\n",
    "\n",
    "        extensiveOut.write(names[i] + \",\" + labels_test.iloc[i,0] + \",\" + labels_test.iloc[i,1])\n",
    "        for j in range(len(predictions)):\n",
    "            extensiveOut.write(\",\" + predictions[j][i])\n",
    "        extensiveOut.write(\", \" + str(gender_mislabeled) + \",\" + str(msi_mislabeled) + \",\" + str(mislabeled))\n",
    "        extensiveOut.write(\"\\n\")\n",
    "\n",
    "    extensiveOut.close()\n"
   ]
  },
  {
   "cell_type": "code",
   "execution_count": 163,
   "metadata": {},
   "outputs": [],
   "source": [
    "writeSingleOutput(predictions_prot, \"extensive_prot.csv\")"
   ]
  },
  {
   "cell_type": "code",
   "execution_count": 161,
   "metadata": {},
   "outputs": [],
   "source": [
    "writeSingleOutput(predictions_rna, \"extensive_rna.csv\")"
   ]
  }
 ],
 "metadata": {
  "kernelspec": {
   "display_name": "Python 2",
   "language": "python",
   "name": "python2"
  },
  "language_info": {
   "codemirror_mode": {
    "name": "ipython",
    "version": 2
   },
   "file_extension": ".py",
   "mimetype": "text/x-python",
   "name": "python",
   "nbconvert_exporter": "python",
   "pygments_lexer": "ipython2",
   "version": "2.7.15"
  }
 },
 "nbformat": 4,
 "nbformat_minor": 2
}
