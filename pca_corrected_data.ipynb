{
 "cells": [
  {
   "cell_type": "code",
   "execution_count": 3,
   "metadata": {
    "collapsed": true
   },
   "outputs": [],
   "source": [
    "import pandas as pd\n",
    "import numpy as np\n",
    "pd.set_option('display.max_rows', 10)\n",
    "import seaborn as sns\n",
    "import matplotlib.pyplot as plt\n",
    "%matplotlib inline"
   ]
  },
  {
   "cell_type": "markdown",
   "metadata": {},
   "source": [
    "Run PCA with the corrected data"
   ]
  },
  {
   "cell_type": "code",
   "execution_count": 4,
   "metadata": {
    "collapsed": true
   },
   "outputs": [],
   "source": [
    "rna_df=pd.read_csv('./train_rna_corrected.tsv.txt', sep='\\t')\n",
    "pro_df=pd.read_csv('./train_pro_corrected.tsv.txt', sep='\\t')\n",
    "sum_df=pd.read_csv('./sum_tab_2.csv', sep=',', index_col='sample')"
   ]
  },
  {
   "cell_type": "code",
   "execution_count": 58,
   "metadata": {
    "collapsed": true
   },
   "outputs": [],
   "source": [
    "from sklearn.preprocessing import MinMaxScaler\n",
    "import pandas as pd\n",
    "\n",
    "rna_df = rna_df.T\n",
    "pro_df = pro_df.T\n"
   ]
  },
  {
   "cell_type": "code",
   "execution_count": 59,
   "metadata": {
    "collapsed": true
   },
   "outputs": [],
   "source": [
    "rna_df = rna_df.fillna(0)"
   ]
  },
  {
   "cell_type": "code",
   "execution_count": 60,
   "metadata": {
    "collapsed": true
   },
   "outputs": [],
   "source": [
    "pro_df = pro_df.fillna(0)"
   ]
  },
  {
   "cell_type": "code",
   "execution_count": 83,
   "metadata": {
    "collapsed": true
   },
   "outputs": [],
   "source": [
    "from sklearn.decomposition import PCA"
   ]
  },
  {
   "cell_type": "code",
   "execution_count": 62,
   "metadata": {
    "collapsed": true
   },
   "outputs": [],
   "source": [
    "X_pro = pro_df.values\n",
    "X_rna = rna_df.values"
   ]
  },
  {
   "cell_type": "code",
   "execution_count": 63,
   "metadata": {},
   "outputs": [
    {
     "data": {
      "text/plain": [
       "PCA(copy=True, iterated_power='auto', n_components=40, random_state=None,\n",
       "  svd_solver='auto', tol=0.0, whiten=False)"
      ]
     },
     "execution_count": 63,
     "metadata": {},
     "output_type": "execute_result"
    }
   ],
   "source": [
    "pca = PCA(n_components=40)\n",
    "pca.fit(X_rna)"
   ]
  },
  {
   "cell_type": "code",
   "execution_count": 64,
   "metadata": {},
   "outputs": [
    {
     "data": {
      "text/plain": [
       "array([[ 0.11308671,  0.10893383,  0.1088553 , ...,  0.1106744 ,\n",
       "         0.1147969 ,  0.11230168],\n",
       "       [-0.00407863,  0.10333338,  0.03140243, ...,  0.10373002,\n",
       "        -0.0277355 ,  0.06591177],\n",
       "       [ 0.11897635, -0.11013293,  0.01564081, ..., -0.06149707,\n",
       "         0.0679699 ,  0.09267577],\n",
       "       ..., \n",
       "       [-0.06932123,  0.06519819, -0.02750876, ...,  0.04620256,\n",
       "        -0.07273821,  0.06788174],\n",
       "       [ 0.13399105,  0.02281012, -0.04198756, ..., -0.01290452,\n",
       "         0.02865626,  0.34762267],\n",
       "       [-0.0740858 , -0.22359974,  0.0094874 , ...,  0.25847721,\n",
       "         0.0185873 ,  0.03476323]])"
      ]
     },
     "execution_count": 64,
     "metadata": {},
     "output_type": "execute_result"
    }
   ],
   "source": [
    "pca.components_"
   ]
  },
  {
   "cell_type": "code",
   "execution_count": 65,
   "metadata": {
    "collapsed": true
   },
   "outputs": [],
   "source": [
    "df = pd.DataFrame(pca.components_)\n",
    "df.to_csv(\"pca_rna_corrected.csv\")"
   ]
  },
  {
   "cell_type": "code",
   "execution_count": 66,
   "metadata": {},
   "outputs": [
    {
     "data": {
      "text/plain": [
       "0.98643756814816375"
      ]
     },
     "execution_count": 66,
     "metadata": {},
     "output_type": "execute_result"
    }
   ],
   "source": [
    "sum(pca.explained_variance_ratio_)"
   ]
  },
  {
   "cell_type": "code",
   "execution_count": 67,
   "metadata": {},
   "outputs": [
    {
     "data": {
      "text/plain": [
       "PCA(copy=True, iterated_power='auto', n_components=40, random_state=None,\n",
       "  svd_solver='auto', tol=0.0, whiten=False)"
      ]
     },
     "execution_count": 67,
     "metadata": {},
     "output_type": "execute_result"
    }
   ],
   "source": [
    "pca = PCA(n_components=40)\n",
    "pca.fit(X_pro)"
   ]
  },
  {
   "cell_type": "code",
   "execution_count": 68,
   "metadata": {},
   "outputs": [
    {
     "data": {
      "text/plain": [
       "array([[  1.15129923e-01,   1.22051242e-27,   1.15946265e-01, ...,\n",
       "          1.09958575e-01,   1.13762898e-01,   1.14714775e-01],\n",
       "       [  2.84705550e-02,   2.43935170e-21,  -6.23949006e-02, ...,\n",
       "          1.81470269e-02,  -1.36455329e-01,  -1.06751412e-01],\n",
       "       [ -3.47410182e-02,   9.21184008e-19,  -6.21377980e-02, ...,\n",
       "          3.90356513e-02,   6.72965817e-02,  -1.18893764e-01],\n",
       "       ..., \n",
       "       [  7.01988076e-02,  -1.01643072e-16,   4.92652622e-02, ...,\n",
       "          8.04252832e-02,  -1.48406500e-01,   1.12038179e-01],\n",
       "       [  4.17196960e-02,  -2.33178511e-17,   6.85542737e-02, ...,\n",
       "         -5.91573165e-02,  -1.04481337e-01,  -5.10563083e-02],\n",
       "       [  9.44063876e-02,  -8.19329727e-17,   4.65546167e-02, ...,\n",
       "         -2.24871836e-01,  -1.57362846e-01,   1.01464882e-01]])"
      ]
     },
     "execution_count": 68,
     "metadata": {},
     "output_type": "execute_result"
    }
   ],
   "source": [
    "pca.components_"
   ]
  },
  {
   "cell_type": "code",
   "execution_count": 69,
   "metadata": {
    "collapsed": true
   },
   "outputs": [],
   "source": [
    "df = pd.DataFrame(pca.components_)\n",
    "df.to_csv(\"pca_pro_corrected.csv\")"
   ]
  },
  {
   "cell_type": "code",
   "execution_count": 70,
   "metadata": {},
   "outputs": [
    {
     "data": {
      "text/plain": [
       "0.95031065643177259"
      ]
     },
     "execution_count": 70,
     "metadata": {},
     "output_type": "execute_result"
    }
   ],
   "source": [
    "sum(pca.explained_variance_ratio_)"
   ]
  },
  {
   "cell_type": "markdown",
   "metadata": {},
   "source": [
    "Run the pcs with corrected test data"
   ]
  },
  {
   "cell_type": "code",
   "execution_count": 71,
   "metadata": {
    "collapsed": true
   },
   "outputs": [],
   "source": [
    "rna_df=pd.read_csv('./test_rna_corrected.tsv.txt', sep='\\t')\n",
    "pro_df=pd.read_csv('./test_pro_corrected.tsv.txt', sep='\\t')\n",
    "sum_df=pd.read_csv('./sum_tab_2.csv', sep=',', index_col='sample')"
   ]
  },
  {
   "cell_type": "code",
   "execution_count": 76,
   "metadata": {},
   "outputs": [],
   "source": [
    "from sklearn.preprocessing import MinMaxScaler\n",
    "import pandas as pd\n",
    "\n",
    "rna_df = rna_df.T\n",
    "pro_df = pro_df.T"
   ]
  },
  {
   "cell_type": "code",
   "execution_count": 78,
   "metadata": {},
   "outputs": [
    {
     "data": {
      "text/html": [
       "<div>\n",
       "<style>\n",
       "    .dataframe thead tr:only-child th {\n",
       "        text-align: right;\n",
       "    }\n",
       "\n",
       "    .dataframe thead th {\n",
       "        text-align: left;\n",
       "    }\n",
       "\n",
       "    .dataframe tbody tr th {\n",
       "        vertical-align: top;\n",
       "    }\n",
       "</style>\n",
       "<table border=\"1\" class=\"dataframe\">\n",
       "  <thead>\n",
       "    <tr style=\"text-align: right;\">\n",
       "      <th></th>\n",
       "      <th>Testing_1</th>\n",
       "      <th>Testing_2</th>\n",
       "      <th>Testing_3</th>\n",
       "      <th>Testing_4</th>\n",
       "      <th>Testing_5</th>\n",
       "      <th>Testing_6</th>\n",
       "      <th>Testing_7</th>\n",
       "      <th>Testing_8</th>\n",
       "      <th>Testing_9</th>\n",
       "      <th>Testing_10</th>\n",
       "      <th>...</th>\n",
       "      <th>Testing_71</th>\n",
       "      <th>Testing_72</th>\n",
       "      <th>Testing_73</th>\n",
       "      <th>Testing_74</th>\n",
       "      <th>Testing_75</th>\n",
       "      <th>Testing_76</th>\n",
       "      <th>Testing_77</th>\n",
       "      <th>Testing_78</th>\n",
       "      <th>Testing_79</th>\n",
       "      <th>Testing_80</th>\n",
       "    </tr>\n",
       "  </thead>\n",
       "  <tbody>\n",
       "    <tr>\n",
       "      <th>A1BG</th>\n",
       "      <td>3.446723</td>\n",
       "      <td>3.669580</td>\n",
       "      <td>3.398472</td>\n",
       "      <td>3.112875</td>\n",
       "      <td>3.535956</td>\n",
       "      <td>3.222556</td>\n",
       "      <td>4.011226</td>\n",
       "      <td>3.660633</td>\n",
       "      <td>2.459769</td>\n",
       "      <td>3.529445</td>\n",
       "      <td>...</td>\n",
       "      <td>2.747886</td>\n",
       "      <td>3.107907</td>\n",
       "      <td>2.796258</td>\n",
       "      <td>3.975565</td>\n",
       "      <td>3.854046</td>\n",
       "      <td>3.840117</td>\n",
       "      <td>2.531494</td>\n",
       "      <td>2.642408</td>\n",
       "      <td>3.913182</td>\n",
       "      <td>4.141304</td>\n",
       "    </tr>\n",
       "    <tr>\n",
       "      <th>A2M</th>\n",
       "      <td>5.994520</td>\n",
       "      <td>6.371038</td>\n",
       "      <td>6.132440</td>\n",
       "      <td>5.645341</td>\n",
       "      <td>5.532811</td>\n",
       "      <td>5.754886</td>\n",
       "      <td>5.917435</td>\n",
       "      <td>6.056136</td>\n",
       "      <td>5.526915</td>\n",
       "      <td>5.652671</td>\n",
       "      <td>...</td>\n",
       "      <td>6.164473</td>\n",
       "      <td>6.404276</td>\n",
       "      <td>5.067085</td>\n",
       "      <td>6.497901</td>\n",
       "      <td>5.259377</td>\n",
       "      <td>6.172335</td>\n",
       "      <td>5.496268</td>\n",
       "      <td>6.395966</td>\n",
       "      <td>5.963701</td>\n",
       "      <td>6.308505</td>\n",
       "    </tr>\n",
       "    <tr>\n",
       "      <th>AAAS</th>\n",
       "      <td>2.168001</td>\n",
       "      <td>2.410543</td>\n",
       "      <td>NaN</td>\n",
       "      <td>2.211822</td>\n",
       "      <td>0.987561</td>\n",
       "      <td>1.737837</td>\n",
       "      <td>2.381688</td>\n",
       "      <td>2.193863</td>\n",
       "      <td>1.759665</td>\n",
       "      <td>2.310238</td>\n",
       "      <td>...</td>\n",
       "      <td>2.842435</td>\n",
       "      <td>1.694889</td>\n",
       "      <td>1.520694</td>\n",
       "      <td>2.860077</td>\n",
       "      <td>2.233857</td>\n",
       "      <td>2.305192</td>\n",
       "      <td>1.470474</td>\n",
       "      <td>1.073909</td>\n",
       "      <td>1.102109</td>\n",
       "      <td>1.088823</td>\n",
       "    </tr>\n",
       "    <tr>\n",
       "      <th>AACS</th>\n",
       "      <td>NaN</td>\n",
       "      <td>1.024838</td>\n",
       "      <td>NaN</td>\n",
       "      <td>1.099892</td>\n",
       "      <td>1.076615</td>\n",
       "      <td>1.001861</td>\n",
       "      <td>1.924734</td>\n",
       "      <td>1.024838</td>\n",
       "      <td>NaN</td>\n",
       "      <td>1.878005</td>\n",
       "      <td>...</td>\n",
       "      <td>2.481767</td>\n",
       "      <td>NaN</td>\n",
       "      <td>1.978784</td>\n",
       "      <td>1.024838</td>\n",
       "      <td>NaN</td>\n",
       "      <td>0.990946</td>\n",
       "      <td>2.821773</td>\n",
       "      <td>1.428959</td>\n",
       "      <td>NaN</td>\n",
       "      <td>NaN</td>\n",
       "    </tr>\n",
       "    <tr>\n",
       "      <th>AAGAB</th>\n",
       "      <td>NaN</td>\n",
       "      <td>0.991114</td>\n",
       "      <td>1.096724</td>\n",
       "      <td>1.056902</td>\n",
       "      <td>NaN</td>\n",
       "      <td>NaN</td>\n",
       "      <td>1.010897</td>\n",
       "      <td>0.991114</td>\n",
       "      <td>NaN</td>\n",
       "      <td>1.010897</td>\n",
       "      <td>...</td>\n",
       "      <td>1.181934</td>\n",
       "      <td>1.044511</td>\n",
       "      <td>1.010897</td>\n",
       "      <td>0.991114</td>\n",
       "      <td>1.066978</td>\n",
       "      <td>NaN</td>\n",
       "      <td>1.911122</td>\n",
       "      <td>NaN</td>\n",
       "      <td>1.040694</td>\n",
       "      <td>NaN</td>\n",
       "    </tr>\n",
       "    <tr>\n",
       "      <th>...</th>\n",
       "      <td>...</td>\n",
       "      <td>...</td>\n",
       "      <td>...</td>\n",
       "      <td>...</td>\n",
       "      <td>...</td>\n",
       "      <td>...</td>\n",
       "      <td>...</td>\n",
       "      <td>...</td>\n",
       "      <td>...</td>\n",
       "      <td>...</td>\n",
       "      <td>...</td>\n",
       "      <td>...</td>\n",
       "      <td>...</td>\n",
       "      <td>...</td>\n",
       "      <td>...</td>\n",
       "      <td>...</td>\n",
       "      <td>...</td>\n",
       "      <td>...</td>\n",
       "      <td>...</td>\n",
       "      <td>...</td>\n",
       "      <td>...</td>\n",
       "    </tr>\n",
       "    <tr>\n",
       "      <th>ZNF706</th>\n",
       "      <td>1.058798</td>\n",
       "      <td>NaN</td>\n",
       "      <td>NaN</td>\n",
       "      <td>1.780610</td>\n",
       "      <td>1.721321</td>\n",
       "      <td>1.017950</td>\n",
       "      <td>1.370977</td>\n",
       "      <td>1.005174</td>\n",
       "      <td>NaN</td>\n",
       "      <td>0.993088</td>\n",
       "      <td>...</td>\n",
       "      <td>1.005174</td>\n",
       "      <td>1.744332</td>\n",
       "      <td>0.993088</td>\n",
       "      <td>1.005174</td>\n",
       "      <td>1.083073</td>\n",
       "      <td>1.005565</td>\n",
       "      <td>NaN</td>\n",
       "      <td>1.508650</td>\n",
       "      <td>1.021728</td>\n",
       "      <td>NaN</td>\n",
       "    </tr>\n",
       "    <tr>\n",
       "      <th>ZPR1</th>\n",
       "      <td>1.848274</td>\n",
       "      <td>0.997150</td>\n",
       "      <td>1.120824</td>\n",
       "      <td>1.074043</td>\n",
       "      <td>NaN</td>\n",
       "      <td>1.584643</td>\n",
       "      <td>1.326519</td>\n",
       "      <td>2.422197</td>\n",
       "      <td>NaN</td>\n",
       "      <td>1.873740</td>\n",
       "      <td>...</td>\n",
       "      <td>0.997150</td>\n",
       "      <td>1.059522</td>\n",
       "      <td>1.970412</td>\n",
       "      <td>NaN</td>\n",
       "      <td>1.085864</td>\n",
       "      <td>1.016313</td>\n",
       "      <td>1.009531</td>\n",
       "      <td>NaN</td>\n",
       "      <td>NaN</td>\n",
       "      <td>NaN</td>\n",
       "    </tr>\n",
       "    <tr>\n",
       "      <th>ZW10</th>\n",
       "      <td>2.565798</td>\n",
       "      <td>2.265862</td>\n",
       "      <td>2.944166</td>\n",
       "      <td>NaN</td>\n",
       "      <td>1.795269</td>\n",
       "      <td>1.989170</td>\n",
       "      <td>2.293683</td>\n",
       "      <td>1.996383</td>\n",
       "      <td>1.181041</td>\n",
       "      <td>2.433754</td>\n",
       "      <td>...</td>\n",
       "      <td>2.705029</td>\n",
       "      <td>1.817624</td>\n",
       "      <td>2.595059</td>\n",
       "      <td>1.477178</td>\n",
       "      <td>1.881899</td>\n",
       "      <td>1.850702</td>\n",
       "      <td>2.016974</td>\n",
       "      <td>2.743954</td>\n",
       "      <td>1.593976</td>\n",
       "      <td>0.873647</td>\n",
       "    </tr>\n",
       "    <tr>\n",
       "      <th>ZYX</th>\n",
       "      <td>3.597116</td>\n",
       "      <td>3.967766</td>\n",
       "      <td>3.779964</td>\n",
       "      <td>3.918465</td>\n",
       "      <td>3.535849</td>\n",
       "      <td>4.407917</td>\n",
       "      <td>3.839484</td>\n",
       "      <td>3.979165</td>\n",
       "      <td>4.041102</td>\n",
       "      <td>4.237667</td>\n",
       "      <td>...</td>\n",
       "      <td>3.088232</td>\n",
       "      <td>4.445406</td>\n",
       "      <td>4.644701</td>\n",
       "      <td>4.532813</td>\n",
       "      <td>3.969532</td>\n",
       "      <td>3.118259</td>\n",
       "      <td>4.220868</td>\n",
       "      <td>4.184490</td>\n",
       "      <td>4.173609</td>\n",
       "      <td>3.942143</td>\n",
       "    </tr>\n",
       "    <tr>\n",
       "      <th>ZZEF1</th>\n",
       "      <td>1.636396</td>\n",
       "      <td>1.802938</td>\n",
       "      <td>1.756282</td>\n",
       "      <td>NaN</td>\n",
       "      <td>NaN</td>\n",
       "      <td>1.059954</td>\n",
       "      <td>NaN</td>\n",
       "      <td>2.463100</td>\n",
       "      <td>1.698926</td>\n",
       "      <td>2.255463</td>\n",
       "      <td>...</td>\n",
       "      <td>2.481231</td>\n",
       "      <td>1.020129</td>\n",
       "      <td>1.031065</td>\n",
       "      <td>2.458825</td>\n",
       "      <td>1.041180</td>\n",
       "      <td>1.678737</td>\n",
       "      <td>NaN</td>\n",
       "      <td>2.181634</td>\n",
       "      <td>NaN</td>\n",
       "      <td>1.722888</td>\n",
       "    </tr>\n",
       "  </tbody>\n",
       "</table>\n",
       "<p>4118 rows × 80 columns</p>\n",
       "</div>"
      ],
      "text/plain": [
       "        Testing_1  Testing_2  Testing_3  Testing_4  Testing_5  Testing_6  \\\n",
       "A1BG     3.446723   3.669580   3.398472   3.112875   3.535956   3.222556   \n",
       "A2M      5.994520   6.371038   6.132440   5.645341   5.532811   5.754886   \n",
       "AAAS     2.168001   2.410543        NaN   2.211822   0.987561   1.737837   \n",
       "AACS          NaN   1.024838        NaN   1.099892   1.076615   1.001861   \n",
       "AAGAB         NaN   0.991114   1.096724   1.056902        NaN        NaN   \n",
       "...           ...        ...        ...        ...        ...        ...   \n",
       "ZNF706   1.058798        NaN        NaN   1.780610   1.721321   1.017950   \n",
       "ZPR1     1.848274   0.997150   1.120824   1.074043        NaN   1.584643   \n",
       "ZW10     2.565798   2.265862   2.944166        NaN   1.795269   1.989170   \n",
       "ZYX      3.597116   3.967766   3.779964   3.918465   3.535849   4.407917   \n",
       "ZZEF1    1.636396   1.802938   1.756282        NaN        NaN   1.059954   \n",
       "\n",
       "        Testing_7  Testing_8  Testing_9  Testing_10     ...      Testing_71  \\\n",
       "A1BG     4.011226   3.660633   2.459769    3.529445     ...        2.747886   \n",
       "A2M      5.917435   6.056136   5.526915    5.652671     ...        6.164473   \n",
       "AAAS     2.381688   2.193863   1.759665    2.310238     ...        2.842435   \n",
       "AACS     1.924734   1.024838        NaN    1.878005     ...        2.481767   \n",
       "AAGAB    1.010897   0.991114        NaN    1.010897     ...        1.181934   \n",
       "...           ...        ...        ...         ...     ...             ...   \n",
       "ZNF706   1.370977   1.005174        NaN    0.993088     ...        1.005174   \n",
       "ZPR1     1.326519   2.422197        NaN    1.873740     ...        0.997150   \n",
       "ZW10     2.293683   1.996383   1.181041    2.433754     ...        2.705029   \n",
       "ZYX      3.839484   3.979165   4.041102    4.237667     ...        3.088232   \n",
       "ZZEF1         NaN   2.463100   1.698926    2.255463     ...        2.481231   \n",
       "\n",
       "        Testing_72  Testing_73  Testing_74  Testing_75  Testing_76  \\\n",
       "A1BG      3.107907    2.796258    3.975565    3.854046    3.840117   \n",
       "A2M       6.404276    5.067085    6.497901    5.259377    6.172335   \n",
       "AAAS      1.694889    1.520694    2.860077    2.233857    2.305192   \n",
       "AACS           NaN    1.978784    1.024838         NaN    0.990946   \n",
       "AAGAB     1.044511    1.010897    0.991114    1.066978         NaN   \n",
       "...            ...         ...         ...         ...         ...   \n",
       "ZNF706    1.744332    0.993088    1.005174    1.083073    1.005565   \n",
       "ZPR1      1.059522    1.970412         NaN    1.085864    1.016313   \n",
       "ZW10      1.817624    2.595059    1.477178    1.881899    1.850702   \n",
       "ZYX       4.445406    4.644701    4.532813    3.969532    3.118259   \n",
       "ZZEF1     1.020129    1.031065    2.458825    1.041180    1.678737   \n",
       "\n",
       "        Testing_77  Testing_78  Testing_79  Testing_80  \n",
       "A1BG      2.531494    2.642408    3.913182    4.141304  \n",
       "A2M       5.496268    6.395966    5.963701    6.308505  \n",
       "AAAS      1.470474    1.073909    1.102109    1.088823  \n",
       "AACS      2.821773    1.428959         NaN         NaN  \n",
       "AAGAB     1.911122         NaN    1.040694         NaN  \n",
       "...            ...         ...         ...         ...  \n",
       "ZNF706         NaN    1.508650    1.021728         NaN  \n",
       "ZPR1      1.009531         NaN         NaN         NaN  \n",
       "ZW10      2.016974    2.743954    1.593976    0.873647  \n",
       "ZYX       4.220868    4.184490    4.173609    3.942143  \n",
       "ZZEF1          NaN    2.181634         NaN    1.722888  \n",
       "\n",
       "[4118 rows x 80 columns]"
      ]
     },
     "execution_count": 78,
     "metadata": {},
     "output_type": "execute_result"
    }
   ],
   "source": [
    "pro_df"
   ]
  },
  {
   "cell_type": "code",
   "execution_count": 79,
   "metadata": {
    "collapsed": true
   },
   "outputs": [],
   "source": [
    "rna_df = rna_df.fillna(0)"
   ]
  },
  {
   "cell_type": "code",
   "execution_count": 80,
   "metadata": {
    "collapsed": true
   },
   "outputs": [],
   "source": [
    "pro_df = pro_df.fillna(0)"
   ]
  },
  {
   "cell_type": "code",
   "execution_count": 82,
   "metadata": {},
   "outputs": [
    {
     "data": {
      "text/html": [
       "<div>\n",
       "<style>\n",
       "    .dataframe thead tr:only-child th {\n",
       "        text-align: right;\n",
       "    }\n",
       "\n",
       "    .dataframe thead th {\n",
       "        text-align: left;\n",
       "    }\n",
       "\n",
       "    .dataframe tbody tr th {\n",
       "        vertical-align: top;\n",
       "    }\n",
       "</style>\n",
       "<table border=\"1\" class=\"dataframe\">\n",
       "  <thead>\n",
       "    <tr style=\"text-align: right;\">\n",
       "      <th></th>\n",
       "      <th>Testing_1</th>\n",
       "      <th>Testing_2</th>\n",
       "      <th>Testing_3</th>\n",
       "      <th>Testing_4</th>\n",
       "      <th>Testing_5</th>\n",
       "      <th>Testing_6</th>\n",
       "      <th>Testing_7</th>\n",
       "      <th>Testing_8</th>\n",
       "      <th>Testing_9</th>\n",
       "      <th>Testing_10</th>\n",
       "      <th>...</th>\n",
       "      <th>Testing_71</th>\n",
       "      <th>Testing_72</th>\n",
       "      <th>Testing_73</th>\n",
       "      <th>Testing_74</th>\n",
       "      <th>Testing_75</th>\n",
       "      <th>Testing_76</th>\n",
       "      <th>Testing_77</th>\n",
       "      <th>Testing_78</th>\n",
       "      <th>Testing_79</th>\n",
       "      <th>Testing_80</th>\n",
       "    </tr>\n",
       "  </thead>\n",
       "  <tbody>\n",
       "    <tr>\n",
       "      <th>A1BG</th>\n",
       "      <td>3.446723</td>\n",
       "      <td>3.669580</td>\n",
       "      <td>3.398472</td>\n",
       "      <td>3.112875</td>\n",
       "      <td>3.535956</td>\n",
       "      <td>3.222556</td>\n",
       "      <td>4.011226</td>\n",
       "      <td>3.660633</td>\n",
       "      <td>2.459769</td>\n",
       "      <td>3.529445</td>\n",
       "      <td>...</td>\n",
       "      <td>2.747886</td>\n",
       "      <td>3.107907</td>\n",
       "      <td>2.796258</td>\n",
       "      <td>3.975565</td>\n",
       "      <td>3.854046</td>\n",
       "      <td>3.840117</td>\n",
       "      <td>2.531494</td>\n",
       "      <td>2.642408</td>\n",
       "      <td>3.913182</td>\n",
       "      <td>4.141304</td>\n",
       "    </tr>\n",
       "    <tr>\n",
       "      <th>A2M</th>\n",
       "      <td>5.994520</td>\n",
       "      <td>6.371038</td>\n",
       "      <td>6.132440</td>\n",
       "      <td>5.645341</td>\n",
       "      <td>5.532811</td>\n",
       "      <td>5.754886</td>\n",
       "      <td>5.917435</td>\n",
       "      <td>6.056136</td>\n",
       "      <td>5.526915</td>\n",
       "      <td>5.652671</td>\n",
       "      <td>...</td>\n",
       "      <td>6.164473</td>\n",
       "      <td>6.404276</td>\n",
       "      <td>5.067085</td>\n",
       "      <td>6.497901</td>\n",
       "      <td>5.259377</td>\n",
       "      <td>6.172335</td>\n",
       "      <td>5.496268</td>\n",
       "      <td>6.395966</td>\n",
       "      <td>5.963701</td>\n",
       "      <td>6.308505</td>\n",
       "    </tr>\n",
       "    <tr>\n",
       "      <th>AAAS</th>\n",
       "      <td>2.168001</td>\n",
       "      <td>2.410543</td>\n",
       "      <td>0.000000</td>\n",
       "      <td>2.211822</td>\n",
       "      <td>0.987561</td>\n",
       "      <td>1.737837</td>\n",
       "      <td>2.381688</td>\n",
       "      <td>2.193863</td>\n",
       "      <td>1.759665</td>\n",
       "      <td>2.310238</td>\n",
       "      <td>...</td>\n",
       "      <td>2.842435</td>\n",
       "      <td>1.694889</td>\n",
       "      <td>1.520694</td>\n",
       "      <td>2.860077</td>\n",
       "      <td>2.233857</td>\n",
       "      <td>2.305192</td>\n",
       "      <td>1.470474</td>\n",
       "      <td>1.073909</td>\n",
       "      <td>1.102109</td>\n",
       "      <td>1.088823</td>\n",
       "    </tr>\n",
       "    <tr>\n",
       "      <th>AACS</th>\n",
       "      <td>0.000000</td>\n",
       "      <td>1.024838</td>\n",
       "      <td>0.000000</td>\n",
       "      <td>1.099892</td>\n",
       "      <td>1.076615</td>\n",
       "      <td>1.001861</td>\n",
       "      <td>1.924734</td>\n",
       "      <td>1.024838</td>\n",
       "      <td>0.000000</td>\n",
       "      <td>1.878005</td>\n",
       "      <td>...</td>\n",
       "      <td>2.481767</td>\n",
       "      <td>0.000000</td>\n",
       "      <td>1.978784</td>\n",
       "      <td>1.024838</td>\n",
       "      <td>0.000000</td>\n",
       "      <td>0.990946</td>\n",
       "      <td>2.821773</td>\n",
       "      <td>1.428959</td>\n",
       "      <td>0.000000</td>\n",
       "      <td>0.000000</td>\n",
       "    </tr>\n",
       "    <tr>\n",
       "      <th>AAGAB</th>\n",
       "      <td>0.000000</td>\n",
       "      <td>0.991114</td>\n",
       "      <td>1.096724</td>\n",
       "      <td>1.056902</td>\n",
       "      <td>0.000000</td>\n",
       "      <td>0.000000</td>\n",
       "      <td>1.010897</td>\n",
       "      <td>0.991114</td>\n",
       "      <td>0.000000</td>\n",
       "      <td>1.010897</td>\n",
       "      <td>...</td>\n",
       "      <td>1.181934</td>\n",
       "      <td>1.044511</td>\n",
       "      <td>1.010897</td>\n",
       "      <td>0.991114</td>\n",
       "      <td>1.066978</td>\n",
       "      <td>0.000000</td>\n",
       "      <td>1.911122</td>\n",
       "      <td>0.000000</td>\n",
       "      <td>1.040694</td>\n",
       "      <td>0.000000</td>\n",
       "    </tr>\n",
       "    <tr>\n",
       "      <th>...</th>\n",
       "      <td>...</td>\n",
       "      <td>...</td>\n",
       "      <td>...</td>\n",
       "      <td>...</td>\n",
       "      <td>...</td>\n",
       "      <td>...</td>\n",
       "      <td>...</td>\n",
       "      <td>...</td>\n",
       "      <td>...</td>\n",
       "      <td>...</td>\n",
       "      <td>...</td>\n",
       "      <td>...</td>\n",
       "      <td>...</td>\n",
       "      <td>...</td>\n",
       "      <td>...</td>\n",
       "      <td>...</td>\n",
       "      <td>...</td>\n",
       "      <td>...</td>\n",
       "      <td>...</td>\n",
       "      <td>...</td>\n",
       "      <td>...</td>\n",
       "    </tr>\n",
       "    <tr>\n",
       "      <th>ZNF706</th>\n",
       "      <td>1.058798</td>\n",
       "      <td>0.000000</td>\n",
       "      <td>0.000000</td>\n",
       "      <td>1.780610</td>\n",
       "      <td>1.721321</td>\n",
       "      <td>1.017950</td>\n",
       "      <td>1.370977</td>\n",
       "      <td>1.005174</td>\n",
       "      <td>0.000000</td>\n",
       "      <td>0.993088</td>\n",
       "      <td>...</td>\n",
       "      <td>1.005174</td>\n",
       "      <td>1.744332</td>\n",
       "      <td>0.993088</td>\n",
       "      <td>1.005174</td>\n",
       "      <td>1.083073</td>\n",
       "      <td>1.005565</td>\n",
       "      <td>0.000000</td>\n",
       "      <td>1.508650</td>\n",
       "      <td>1.021728</td>\n",
       "      <td>0.000000</td>\n",
       "    </tr>\n",
       "    <tr>\n",
       "      <th>ZPR1</th>\n",
       "      <td>1.848274</td>\n",
       "      <td>0.997150</td>\n",
       "      <td>1.120824</td>\n",
       "      <td>1.074043</td>\n",
       "      <td>0.000000</td>\n",
       "      <td>1.584643</td>\n",
       "      <td>1.326519</td>\n",
       "      <td>2.422197</td>\n",
       "      <td>0.000000</td>\n",
       "      <td>1.873740</td>\n",
       "      <td>...</td>\n",
       "      <td>0.997150</td>\n",
       "      <td>1.059522</td>\n",
       "      <td>1.970412</td>\n",
       "      <td>0.000000</td>\n",
       "      <td>1.085864</td>\n",
       "      <td>1.016313</td>\n",
       "      <td>1.009531</td>\n",
       "      <td>0.000000</td>\n",
       "      <td>0.000000</td>\n",
       "      <td>0.000000</td>\n",
       "    </tr>\n",
       "    <tr>\n",
       "      <th>ZW10</th>\n",
       "      <td>2.565798</td>\n",
       "      <td>2.265862</td>\n",
       "      <td>2.944166</td>\n",
       "      <td>0.000000</td>\n",
       "      <td>1.795269</td>\n",
       "      <td>1.989170</td>\n",
       "      <td>2.293683</td>\n",
       "      <td>1.996383</td>\n",
       "      <td>1.181041</td>\n",
       "      <td>2.433754</td>\n",
       "      <td>...</td>\n",
       "      <td>2.705029</td>\n",
       "      <td>1.817624</td>\n",
       "      <td>2.595059</td>\n",
       "      <td>1.477178</td>\n",
       "      <td>1.881899</td>\n",
       "      <td>1.850702</td>\n",
       "      <td>2.016974</td>\n",
       "      <td>2.743954</td>\n",
       "      <td>1.593976</td>\n",
       "      <td>0.873647</td>\n",
       "    </tr>\n",
       "    <tr>\n",
       "      <th>ZYX</th>\n",
       "      <td>3.597116</td>\n",
       "      <td>3.967766</td>\n",
       "      <td>3.779964</td>\n",
       "      <td>3.918465</td>\n",
       "      <td>3.535849</td>\n",
       "      <td>4.407917</td>\n",
       "      <td>3.839484</td>\n",
       "      <td>3.979165</td>\n",
       "      <td>4.041102</td>\n",
       "      <td>4.237667</td>\n",
       "      <td>...</td>\n",
       "      <td>3.088232</td>\n",
       "      <td>4.445406</td>\n",
       "      <td>4.644701</td>\n",
       "      <td>4.532813</td>\n",
       "      <td>3.969532</td>\n",
       "      <td>3.118259</td>\n",
       "      <td>4.220868</td>\n",
       "      <td>4.184490</td>\n",
       "      <td>4.173609</td>\n",
       "      <td>3.942143</td>\n",
       "    </tr>\n",
       "    <tr>\n",
       "      <th>ZZEF1</th>\n",
       "      <td>1.636396</td>\n",
       "      <td>1.802938</td>\n",
       "      <td>1.756282</td>\n",
       "      <td>0.000000</td>\n",
       "      <td>0.000000</td>\n",
       "      <td>1.059954</td>\n",
       "      <td>0.000000</td>\n",
       "      <td>2.463100</td>\n",
       "      <td>1.698926</td>\n",
       "      <td>2.255463</td>\n",
       "      <td>...</td>\n",
       "      <td>2.481231</td>\n",
       "      <td>1.020129</td>\n",
       "      <td>1.031065</td>\n",
       "      <td>2.458825</td>\n",
       "      <td>1.041180</td>\n",
       "      <td>1.678737</td>\n",
       "      <td>0.000000</td>\n",
       "      <td>2.181634</td>\n",
       "      <td>0.000000</td>\n",
       "      <td>1.722888</td>\n",
       "    </tr>\n",
       "  </tbody>\n",
       "</table>\n",
       "<p>4118 rows × 80 columns</p>\n",
       "</div>"
      ],
      "text/plain": [
       "        Testing_1  Testing_2  Testing_3  Testing_4  Testing_5  Testing_6  \\\n",
       "A1BG     3.446723   3.669580   3.398472   3.112875   3.535956   3.222556   \n",
       "A2M      5.994520   6.371038   6.132440   5.645341   5.532811   5.754886   \n",
       "AAAS     2.168001   2.410543   0.000000   2.211822   0.987561   1.737837   \n",
       "AACS     0.000000   1.024838   0.000000   1.099892   1.076615   1.001861   \n",
       "AAGAB    0.000000   0.991114   1.096724   1.056902   0.000000   0.000000   \n",
       "...           ...        ...        ...        ...        ...        ...   \n",
       "ZNF706   1.058798   0.000000   0.000000   1.780610   1.721321   1.017950   \n",
       "ZPR1     1.848274   0.997150   1.120824   1.074043   0.000000   1.584643   \n",
       "ZW10     2.565798   2.265862   2.944166   0.000000   1.795269   1.989170   \n",
       "ZYX      3.597116   3.967766   3.779964   3.918465   3.535849   4.407917   \n",
       "ZZEF1    1.636396   1.802938   1.756282   0.000000   0.000000   1.059954   \n",
       "\n",
       "        Testing_7  Testing_8  Testing_9  Testing_10     ...      Testing_71  \\\n",
       "A1BG     4.011226   3.660633   2.459769    3.529445     ...        2.747886   \n",
       "A2M      5.917435   6.056136   5.526915    5.652671     ...        6.164473   \n",
       "AAAS     2.381688   2.193863   1.759665    2.310238     ...        2.842435   \n",
       "AACS     1.924734   1.024838   0.000000    1.878005     ...        2.481767   \n",
       "AAGAB    1.010897   0.991114   0.000000    1.010897     ...        1.181934   \n",
       "...           ...        ...        ...         ...     ...             ...   \n",
       "ZNF706   1.370977   1.005174   0.000000    0.993088     ...        1.005174   \n",
       "ZPR1     1.326519   2.422197   0.000000    1.873740     ...        0.997150   \n",
       "ZW10     2.293683   1.996383   1.181041    2.433754     ...        2.705029   \n",
       "ZYX      3.839484   3.979165   4.041102    4.237667     ...        3.088232   \n",
       "ZZEF1    0.000000   2.463100   1.698926    2.255463     ...        2.481231   \n",
       "\n",
       "        Testing_72  Testing_73  Testing_74  Testing_75  Testing_76  \\\n",
       "A1BG      3.107907    2.796258    3.975565    3.854046    3.840117   \n",
       "A2M       6.404276    5.067085    6.497901    5.259377    6.172335   \n",
       "AAAS      1.694889    1.520694    2.860077    2.233857    2.305192   \n",
       "AACS      0.000000    1.978784    1.024838    0.000000    0.990946   \n",
       "AAGAB     1.044511    1.010897    0.991114    1.066978    0.000000   \n",
       "...            ...         ...         ...         ...         ...   \n",
       "ZNF706    1.744332    0.993088    1.005174    1.083073    1.005565   \n",
       "ZPR1      1.059522    1.970412    0.000000    1.085864    1.016313   \n",
       "ZW10      1.817624    2.595059    1.477178    1.881899    1.850702   \n",
       "ZYX       4.445406    4.644701    4.532813    3.969532    3.118259   \n",
       "ZZEF1     1.020129    1.031065    2.458825    1.041180    1.678737   \n",
       "\n",
       "        Testing_77  Testing_78  Testing_79  Testing_80  \n",
       "A1BG      2.531494    2.642408    3.913182    4.141304  \n",
       "A2M       5.496268    6.395966    5.963701    6.308505  \n",
       "AAAS      1.470474    1.073909    1.102109    1.088823  \n",
       "AACS      2.821773    1.428959    0.000000    0.000000  \n",
       "AAGAB     1.911122    0.000000    1.040694    0.000000  \n",
       "...            ...         ...         ...         ...  \n",
       "ZNF706    0.000000    1.508650    1.021728    0.000000  \n",
       "ZPR1      1.009531    0.000000    0.000000    0.000000  \n",
       "ZW10      2.016974    2.743954    1.593976    0.873647  \n",
       "ZYX       4.220868    4.184490    4.173609    3.942143  \n",
       "ZZEF1     0.000000    2.181634    0.000000    1.722888  \n",
       "\n",
       "[4118 rows x 80 columns]"
      ]
     },
     "execution_count": 82,
     "metadata": {},
     "output_type": "execute_result"
    }
   ],
   "source": [
    "pro_df"
   ]
  },
  {
   "cell_type": "code",
   "execution_count": 84,
   "metadata": {
    "collapsed": true
   },
   "outputs": [],
   "source": [
    "X_pro = pro_df.values\n",
    "X_rna = rna_df.values"
   ]
  },
  {
   "cell_type": "code",
   "execution_count": 86,
   "metadata": {},
   "outputs": [
    {
     "data": {
      "text/plain": [
       "PCA(copy=True, iterated_power='auto', n_components=40, random_state=None,\n",
       "  svd_solver='auto', tol=0.0, whiten=False)"
      ]
     },
     "execution_count": 86,
     "metadata": {},
     "output_type": "execute_result"
    }
   ],
   "source": [
    "pca = PCA(n_components=40)\n",
    "pca.fit(X_rna)"
   ]
  },
  {
   "cell_type": "code",
   "execution_count": 87,
   "metadata": {},
   "outputs": [
    {
     "data": {
      "text/plain": [
       "array([[ 0.11480528,  0.10702349,  0.11425396, ...,  0.11096439,\n",
       "         0.11022584,  0.10994328],\n",
       "       [-0.01733079, -0.14643453,  0.20218028, ..., -0.06321224,\n",
       "         0.0005539 ,  0.04318803],\n",
       "       [-0.0857996 ,  0.00696597, -0.05369888, ...,  0.01901868,\n",
       "         0.13208434,  0.22259583],\n",
       "       ..., \n",
       "       [ 0.00844797, -0.02926784,  0.18154326, ...,  0.12208417,\n",
       "         0.01573358,  0.11900813],\n",
       "       [ 0.04546184, -0.11785823, -0.01431902, ..., -0.07572712,\n",
       "         0.08938874, -0.12798559],\n",
       "       [ 0.06170596, -0.08802367, -0.00746206, ..., -0.05221456,\n",
       "        -0.09000101,  0.08411133]])"
      ]
     },
     "execution_count": 87,
     "metadata": {},
     "output_type": "execute_result"
    }
   ],
   "source": [
    "pca.components_"
   ]
  },
  {
   "cell_type": "code",
   "execution_count": 88,
   "metadata": {},
   "outputs": [
    {
     "data": {
      "text/plain": [
       "0.98700944993443873"
      ]
     },
     "execution_count": 88,
     "metadata": {},
     "output_type": "execute_result"
    }
   ],
   "source": [
    "sum(pca.explained_variance_ratio_)"
   ]
  },
  {
   "cell_type": "code",
   "execution_count": 89,
   "metadata": {
    "collapsed": true
   },
   "outputs": [],
   "source": [
    "df = pd.DataFrame(pca.components_)\n",
    "df.to_csv(\"pca_testrna_corrected.csv\")"
   ]
  },
  {
   "cell_type": "code",
   "execution_count": 90,
   "metadata": {},
   "outputs": [
    {
     "data": {
      "text/plain": [
       "PCA(copy=True, iterated_power='auto', n_components=40, random_state=None,\n",
       "  svd_solver='auto', tol=0.0, whiten=False)"
      ]
     },
     "execution_count": 90,
     "metadata": {},
     "output_type": "execute_result"
    }
   ],
   "source": [
    "pca = PCA(n_components=40)\n",
    "pca.fit(X_pro)"
   ]
  },
  {
   "cell_type": "code",
   "execution_count": 91,
   "metadata": {},
   "outputs": [
    {
     "data": {
      "text/plain": [
       "array([[ 0.11611607,  0.10557598,  0.11632318, ...,  0.11189454,\n",
       "         0.11635742,  0.11183904],\n",
       "       [ 0.00068092,  0.04513877,  0.12133945, ..., -0.01418146,\n",
       "         0.16038885,  0.18738847],\n",
       "       [-0.0424725 , -0.09826213, -0.02746945, ..., -0.11920485,\n",
       "        -0.10080131,  0.19739586],\n",
       "       ..., \n",
       "       [ 0.14113428,  0.00238057, -0.01961897, ...,  0.06226982,\n",
       "        -0.13888436,  0.07241683],\n",
       "       [ 0.02645536,  0.03314593, -0.11369159, ..., -0.00289555,\n",
       "         0.14969884, -0.05544583],\n",
       "       [ 0.11562934, -0.00892164,  0.0578112 , ...,  0.09483136,\n",
       "        -0.14662984, -0.16257219]])"
      ]
     },
     "execution_count": 91,
     "metadata": {},
     "output_type": "execute_result"
    }
   ],
   "source": [
    "pca.components_"
   ]
  },
  {
   "cell_type": "code",
   "execution_count": 92,
   "metadata": {},
   "outputs": [
    {
     "data": {
      "text/plain": [
       "0.94966367735695767"
      ]
     },
     "execution_count": 92,
     "metadata": {},
     "output_type": "execute_result"
    }
   ],
   "source": [
    "sum(pca.explained_variance_ratio_)"
   ]
  },
  {
   "cell_type": "code",
   "execution_count": 93,
   "metadata": {
    "collapsed": true
   },
   "outputs": [],
   "source": [
    "df = pd.DataFrame(pca.components_)\n",
    "df.to_csv(\"pca_testpro_corrected.csv\")"
   ]
  },
  {
   "cell_type": "code",
   "execution_count": null,
   "metadata": {
    "collapsed": true
   },
   "outputs": [],
   "source": []
  }
 ],
 "metadata": {
  "kernelspec": {
   "display_name": "Python 3",
   "language": "python",
   "name": "python3"
  },
  "language_info": {
   "codemirror_mode": {
    "name": "ipython",
    "version": 3
   },
   "file_extension": ".py",
   "mimetype": "text/x-python",
   "name": "python",
   "nbconvert_exporter": "python",
   "pygments_lexer": "ipython3",
   "version": "3.6.3"
  }
 },
 "nbformat": 4,
 "nbformat_minor": 2
}
