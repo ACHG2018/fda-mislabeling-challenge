{
 "cells": [
  {
   "cell_type": "markdown",
   "metadata": {},
   "source": [
    "# Multi-omics Enabled Sample Mislabeling Correction Challenge"
   ]
  },
  {
   "cell_type": "markdown",
   "metadata": {},
   "source": [
    "This notebook is using various classifiers in an attempt to detect sample misclassifications\n",
    "\n",
    "Details about this challenge: https://precision.fda.gov/challenges"
   ]
  },
  {
   "cell_type": "markdown",
   "metadata": {},
   "source": [
    "## Solution"
   ]
  },
  {
   "cell_type": "markdown",
   "metadata": {},
   "source": [
    "Import libraries"
   ]
  },
  {
   "cell_type": "code",
   "execution_count": 717,
   "metadata": {},
   "outputs": [],
   "source": [
    "import os\n",
    "import sys\n",
    "import getopt\n",
    "import re\n",
    "import pandas as pd\n",
    "from sklearn.model_selection import cross_val_score, GridSearchCV, cross_validate, train_test_split\n",
    "from sklearn.metrics import accuracy_score, classification_report\n",
    "from sklearn.ensemble import RandomForestClassifier\n",
    "from sklearn.impute import SimpleImputer\n",
    "from sklearn.svm import SVC\n",
    "from sklearn.metrics import f1_score\n",
    "from sklearn import preprocessing"
   ]
  },
  {
   "cell_type": "markdown",
   "metadata": {},
   "source": [
    "Load data"
   ]
  },
  {
   "cell_type": "code",
   "execution_count": 1188,
   "metadata": {
    "scrolled": true
   },
   "outputs": [],
   "source": [
    "labels = pd.read_csv(\"challenge_data/train_cli.tsv\", sep=\"\\t\", index_col=\"sample\")\n",
    "proteins = pd.read_csv(\"challenge_data/train_pro.tsv\", sep=\"\\t\")\n",
    "# Transpose proteins matrix\n",
    "proteins = proteins.T\n",
    "misClassified = pd.read_csv(\"challenge_data/sum_tab_1.csv\", sep=\",\")\n",
    "# Replace missing values with median\n",
    "proteins = proteins.fillna(proteins.median())\n",
    "# Drop remaining columns with missing values\n",
    "proteins = proteins.dropna(axis='columns')"
   ]
  },
  {
   "cell_type": "markdown",
   "metadata": {},
   "source": [
    "Select only rows which were correctly classified (matches) for machine learning"
   ]
  },
  {
   "cell_type": "code",
   "execution_count": 1189,
   "metadata": {},
   "outputs": [],
   "source": [
    "matches = list(misClassified.query('mismatch==0').loc[:,\"sample\"])\n",
    "x = proteins.loc[matches]\n",
    "y = labels.loc[matches]"
   ]
  },
  {
   "cell_type": "markdown",
   "metadata": {},
   "source": [
    "Classification function, any classifier can be supplied"
   ]
  },
  {
   "cell_type": "code",
   "execution_count": 1190,
   "metadata": {},
   "outputs": [],
   "source": [
    "def classify(x, y, clf):\n",
    "    x_train, x_test, y_train, y_test = train_test_split(x, y, test_size=0.3, shuffle=True, random_state=100)\n",
    "    lb = preprocessing.LabelBinarizer()\n",
    "    # I will have separat models for gende and msi\n",
    "    y_gender_train = lb.fit_transform(y_train.loc[:,\"gender\"]).ravel()\n",
    "    y_gender_test = lb.fit_transform(y_test.loc[:,\"gender\"]).ravel()\n",
    "    y_msi_train = lb.fit_transform(y_train.loc[:,\"msi\"]).ravel()\n",
    "    y_msi_test = lb.fit_transform(y_test.loc[:,\"msi\"]).ravel()\n",
    "\n",
    "    clf.fit(x_train, y_gender_train)\n",
    "\n",
    "    y_gender_predict = clf.predict(x_train)\n",
    "    print(\"Gender train accuracy:\", accuracy_score(y_gender_train, y_gender_predict))\n",
    "    # print(\"Gender train F1:\", f1_score(y_gender_train, y_gender_predict))\n",
    "\n",
    "    y_gender_predict = clf.predict(x_test)\n",
    "    print(\"Gender test accuracy:\", accuracy_score(y_gender_test, y_gender_predict))\n",
    "    # print(\"Gender test F1:\", f1_score(y_gender_test, y_gender_predict))\n",
    "\n",
    "    clf.fit(x_train, y_msi_train)\n",
    "\n",
    "    y_msi_predict = clf.predict(x_train)\n",
    "    print(\"Msi train accuracy:\", accuracy_score(y_msi_train, y_msi_predict))\n",
    "    # print(\"Msi train F1:\", f1_score(y_msi_train, y_msi_predict))\n",
    "\n",
    "    y_msi_predict = clf.predict(x_test)\n",
    "    print(\"Msi train accuracy:\", accuracy_score(y_msi_test, y_msi_predict))\n",
    "    # print(\"Msi train F1:\", f1_score(y_msi_test, y_msi_predict))"
   ]
  },
  {
   "cell_type": "markdown",
   "metadata": {},
   "source": [
    "Train classifiers. \n",
    "TODO: Figure out best parameters for them...\n"
   ]
  },
  {
   "cell_type": "markdown",
   "metadata": {},
   "source": [
    "### SVM\n",
    "\n",
    "* It seems that a high penalty needs to be set for SVM, otherwise it assigns the more frequent label (female and low msi) to everything."
   ]
  },
  {
   "cell_type": "code",
   "execution_count": 1191,
   "metadata": {},
   "outputs": [
    {
     "name": "stdout",
     "output_type": "stream",
     "text": [
      "('Gender train accuracy:', 1.0)\n",
      "('Gender test accuracy:', 0.6190476190476191)\n",
      "('Msi train accuracy:', 1.0)\n",
      "('Msi train accuracy:', 1.0)\n"
     ]
    }
   ],
   "source": [
    "classify(x, y, SVC(C=100, kernel=\"rbf\", gamma=\"scale\", probability=True))"
   ]
  },
  {
   "cell_type": "markdown",
   "metadata": {},
   "source": [
    "### Random Forest"
   ]
  },
  {
   "cell_type": "code",
   "execution_count": 1192,
   "metadata": {},
   "outputs": [
    {
     "name": "stdout",
     "output_type": "stream",
     "text": [
      "('Gender train accuracy:', 0.9787234042553191)\n",
      "('Gender test accuracy:', 0.5238095238095238)\n",
      "('Msi train accuracy:', 1.0)\n",
      "('Msi train accuracy:', 0.9523809523809523)\n"
     ]
    }
   ],
   "source": [
    "classify(x, y, RandomForestClassifier(n_estimators = 10))"
   ]
  },
  {
   "cell_type": "markdown",
   "metadata": {},
   "source": [
    "### How to Combine?"
   ]
  },
  {
   "cell_type": "markdown",
   "metadata": {},
   "source": [
    "Msi seems to be better indicator than gender. How do we take this into account?\n",
    "\n",
    "* MSI does not match --> Mismatch label, no matter what gender says\n",
    "* MSI matching, gender mismatch - what do we do?\n",
    "* I propose to calculate a confidence score and use it in this case."
   ]
  },
  {
   "cell_type": "markdown",
   "metadata": {},
   "source": [
    "\n",
    "### Confidence Score\n",
    "* Instead of reporting just label, show model's confidence score. This can help us decide in case of matching msi and gender misclassification."
   ]
  },
  {
   "cell_type": "code",
   "execution_count": 1194,
   "metadata": {},
   "outputs": [
    {
     "name": "stdout",
     "output_type": "stream",
     "text": [
      "('Gender test accuracy:', 0.6190476190476191)\n",
      "(array([0.66867051, 0.33132949]), 1)\n",
      "(array([0.68102202, 0.31897798]), 0)\n",
      "(array([0.67024997, 0.32975003]), 1)\n",
      "(array([0.67216623, 0.32783377]), 0)\n",
      "(array([0.62350403, 0.37649597]), 1)\n",
      "(array([0.47738122, 0.52261878]), 1)\n",
      "(array([0.80211405, 0.19788595]), 1)\n",
      "(array([0.6586943, 0.3413057]), 0)\n",
      "(array([0.65746198, 0.34253802]), 1)\n",
      "(array([0.72341851, 0.27658149]), 0)\n",
      "(array([0.76553483, 0.23446517]), 1)\n",
      "(array([0.66989072, 0.33010928]), 0)\n",
      "(array([0.79354618, 0.20645382]), 0)\n",
      "(array([0.65093283, 0.34906717]), 0)\n",
      "(array([0.72705496, 0.27294504]), 0)\n",
      "(array([0.64248199, 0.35751801]), 0)\n",
      "(array([0.8371426, 0.1628574]), 1)\n",
      "(array([0.65931179, 0.34068821]), 1)\n",
      "(array([0.74153726, 0.25846274]), 0)\n",
      "(array([0.56489859, 0.43510141]), 1)\n",
      "(array([0.73691679, 0.26308321]), 0)\n",
      "()\n",
      "('Msi test accuracy:', 1.0)\n",
      "(array([0.11766586, 0.88233414]), 1)\n",
      "(array([0.02053533, 0.97946467]), 1)\n",
      "(array([0.11965383, 0.88034617]), 1)\n",
      "(array([0.05851661, 0.94148339]), 1)\n",
      "(array([0.67241495, 0.32758505]), 0)\n",
      "(array([0.06105847, 0.93894153]), 1)\n",
      "(array([0.01322758, 0.98677242]), 1)\n",
      "(array([0.04919487, 0.95080513]), 1)\n",
      "(array([0.05948228, 0.94051772]), 1)\n",
      "(array([0.86417248, 0.13582752]), 0)\n",
      "(array([0.10579752, 0.89420248]), 1)\n",
      "(array([0.20746669, 0.79253331]), 1)\n",
      "(array([0.11662459, 0.88337541]), 1)\n",
      "(array([0.02005911, 0.97994089]), 1)\n",
      "(array([0.08003731, 0.91996269]), 1)\n",
      "(array([0.51563189, 0.48436811]), 0)\n",
      "(array([0.10947736, 0.89052264]), 1)\n",
      "(array([0.88204873, 0.11795127]), 0)\n",
      "(array([0.05658052, 0.94341948]), 1)\n",
      "(array([0.10203872, 0.89796128]), 1)\n",
      "(array([0.06381027, 0.93618973]), 1)\n"
     ]
    }
   ],
   "source": [
    "clf = SVC(C=100, kernel=\"rbf\", gamma=\"scale\", probability=True)\n",
    "#clf = RandomForestClassifier(n_estimators=100)\n",
    "\n",
    "x_train, x_test, y_train, y_test = train_test_split(x, y, test_size=0.3, shuffle=True, random_state=100)\n",
    "\n",
    "y_gender_train = lb.fit_transform(y_train.loc[:,\"gender\"]).ravel()\n",
    "y_gender_test = lb.fit_transform(y_test.loc[:,\"gender\"]).ravel()\n",
    "y_msi_train = lb.fit_transform(y_train.loc[:,\"msi\"]).ravel()\n",
    "y_msi_test = lb.fit_transform(y_test.loc[:,\"msi\"]).ravel()\n",
    "\n",
    "clf.fit(x_train, y_gender_train)\n",
    "y_gender_predict = clf.predict(x_test)\n",
    "print(\"Gender test accuracy:\", accuracy_score(y_gender_test, y_gender_predict))\n",
    "probs = clf.predict_proba(x_test)\n",
    "for i in range(len(probs)):\n",
    "    print(probs[i] , y_gender_test[i])\n",
    "print()\n",
    "\n",
    "clf.fit(x_train, y_msi_train)\n",
    "y_msi_predict = clf.predict(x_test)\n",
    "print(\"Msi test accuracy:\", accuracy_score(y_msi_test, y_msi_predict))\n",
    "probs = clf.predict_proba(x_test)\n",
    "for i in range(len(probs)):\n",
    "    print(probs[i], y_msi_test[i])"
   ]
  }
 ],
 "metadata": {
  "kernelspec": {
   "display_name": "Python 2",
   "language": "python",
   "name": "python2"
  },
  "language_info": {
   "codemirror_mode": {
    "name": "ipython",
    "version": 2
   },
   "file_extension": ".py",
   "mimetype": "text/x-python",
   "name": "python",
   "nbconvert_exporter": "python",
   "pygments_lexer": "ipython2",
   "version": "2.7.15"
  }
 },
 "nbformat": 4,
 "nbformat_minor": 2
}
