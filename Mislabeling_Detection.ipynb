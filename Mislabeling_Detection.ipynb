{
 "cells": [
  {
   "cell_type": "markdown",
   "metadata": {},
   "source": [
    "# Multi-omics Enabled Sample Mislabeling Correction Challenge"
   ]
  },
  {
   "cell_type": "markdown",
   "metadata": {},
   "source": [
    "This notebook is using random forest classifier in and attempt to detect sample misclassifications\n",
    "\n",
    "Details about this challeng: https://precision.fda.gov/challenges"
   ]
  },
  {
   "cell_type": "markdown",
   "metadata": {},
   "source": [
    "## Solution"
   ]
  },
  {
   "cell_type": "markdown",
   "metadata": {},
   "source": [
    "Import libraries"
   ]
  },
  {
   "cell_type": "code",
   "execution_count": 717,
   "metadata": {},
   "outputs": [],
   "source": [
    "import os\n",
    "import sys\n",
    "import getopt\n",
    "import re\n",
    "import pandas as pd\n",
    "from sklearn.model_selection import cross_val_score, GridSearchCV, cross_validate, train_test_split\n",
    "from sklearn.metrics import accuracy_score, classification_report\n",
    "from sklearn.ensemble import RandomForestClassifier\n",
    "from sklearn.impute import SimpleImputer\n",
    "from sklearn.svm import SVC\n",
    "from sklearn.metrics import f1_score\n",
    "from sklearn import preprocessing"
   ]
  },
  {
   "cell_type": "markdown",
   "metadata": {},
   "source": [
    "Load data"
   ]
  },
  {
   "cell_type": "code",
   "execution_count": 1188,
   "metadata": {
    "scrolled": true
   },
   "outputs": [],
   "source": [
    "labels = pd.read_csv(\"challenge_data/train_cli.tsv\", sep=\"\\t\", index_col=\"sample\")\n",
    "proteins = pd.read_csv(\"challenge_data/train_pro.tsv\", sep=\"\\t\")\n",
    "# Transpose proteins matrix\n",
    "proteins = proteins.T\n",
    "misClassified = pd.read_csv(\"challenge_data/sum_tab_1.csv\", sep=\",\")\n",
    "# Replace missing values with median\n",
    "proteins = proteins.fillna(proteins.median())\n",
    "# Drop remaining columns with missing values\n",
    "proteins = proteins.dropna(axis='columns')"
   ]
  },
  {
   "cell_type": "markdown",
   "metadata": {},
   "source": [
    "Select only rows which were correctly classified (matches) for machine learning"
   ]
  },
  {
   "cell_type": "code",
   "execution_count": 1189,
   "metadata": {},
   "outputs": [],
   "source": [
    "matches = list(misClassified.query('mismatch==0').loc[:,\"sample\"])\n",
    "x = proteins.loc[matches]\n",
    "y = labels.loc[matches]"
   ]
  },
  {
   "cell_type": "markdown",
   "metadata": {},
   "source": [
    "Classification function, any classifier can be supplied"
   ]
  },
  {
   "cell_type": "code",
   "execution_count": 1190,
   "metadata": {},
   "outputs": [],
   "source": [
    "def classify(x, y, clf):\n",
    "    x_train, x_test, y_train, y_test = train_test_split(x, y, test_size=0.3, shuffle=True, random_state=100)\n",
    "    # I will have separat models for gende and msi\n",
    "    y_gender_train = lb.fit_transform(y_train.loc[:,\"gender\"]).ravel()\n",
    "    y_gender_test = lb.fit_transform(y_test.loc[:,\"gender\"]).ravel()\n",
    "    y_msi_train = lb.fit_transform(y_train.loc[:,\"msi\"]).ravel()\n",
    "    y_msi_test = lb.fit_transform(y_test.loc[:,\"msi\"]).ravel()\n",
    "\n",
    "    clf.fit(x_train, y_gender_train)\n",
    "\n",
    "    y_gender_predict = clf.predict(x_train)\n",
    "    print(\"Gender train accuracy:\", accuracy_score(y_gender_train, y_gender_predict))\n",
    "    # print(\"Gender train F1:\", f1_score(y_gender_train, y_gender_predict))\n",
    "\n",
    "    y_gender_predict = clf.predict(x_test)\n",
    "    print(\"Gender test accuracy:\", accuracy_score(y_gender_test, y_gender_predict))\n",
    "    # print(\"Gender test F1:\", f1_score(y_gender_test, y_gender_predict))\n",
    "\n",
    "    clf.fit(x_train, y_msi_train)\n",
    "\n",
    "    y_msi_predict = clf.predict(x_train)\n",
    "    print(\"Msi train accuracy:\", accuracy_score(y_msi_train, y_msi_predict))\n",
    "    # print(\"Msi train F1:\", f1_score(y_msi_train, y_msi_predict))\n",
    "\n",
    "    y_msi_predict = clf.predict(x_test)\n",
    "    print(\"Msi train accuracy:\", accuracy_score(y_msi_test, y_msi_predict))\n",
    "    # print(\"Msi train F1:\", f1_score(y_msi_test, y_msi_predict))"
   ]
  },
  {
   "cell_type": "markdown",
   "metadata": {},
   "source": [
    "Train classifiers. TODO: Figure out best parameters for the forest\n"
   ]
  },
  {
   "cell_type": "markdown",
   "metadata": {},
   "source": [
    "### SVM\n",
    "\n",
    "* It seems that a high penalty needs to be set for SVM, otherwise it assignes the more frequent label (female and low msi) to everything."
   ]
  },
  {
   "cell_type": "code",
   "execution_count": 1191,
   "metadata": {},
   "outputs": [
    {
     "name": "stdout",
     "output_type": "stream",
     "text": [
      "('Gender train accuracy:', 1.0)\n",
      "('Gender test accuracy:', 0.6190476190476191)\n",
      "('Msi train accuracy:', 1.0)\n",
      "('Msi train accuracy:', 1.0)\n"
     ]
    }
   ],
   "source": [
    "classify(x, y, SVC(C=100, kernel=\"rbf\", gamma=\"scale\", probability=True))"
   ]
  },
  {
   "cell_type": "markdown",
   "metadata": {},
   "source": [
    "### Random Forest"
   ]
  },
  {
   "cell_type": "code",
   "execution_count": 1192,
   "metadata": {},
   "outputs": [
    {
     "name": "stdout",
     "output_type": "stream",
     "text": [
      "('Gender train accuracy:', 0.9787234042553191)\n",
      "('Gender test accuracy:', 0.5238095238095238)\n",
      "('Msi train accuracy:', 1.0)\n",
      "('Msi train accuracy:', 0.9523809523809523)\n"
     ]
    }
   ],
   "source": [
    "classify(x, y, RandomForestClassifier(n_estimators = 10))"
   ]
  },
  {
   "cell_type": "markdown",
   "metadata": {},
   "source": [
    "### How to Combine?"
   ]
  },
  {
   "cell_type": "markdown",
   "metadata": {},
   "source": [
    "Msi seems to be much better indicator than gender. How do we take this into account?\n",
    "\n",
    "* MSI does not match --> Mismatch label, no matter what gender says\n",
    "* MSI matching, gender mismatch - what do we do?\n",
    "* I propose to calculate a confidence score and use it in gender."
   ]
  },
  {
   "cell_type": "markdown",
   "metadata": {},
   "source": [
    "\n",
    "### Confidence Score\n",
    "* Instead of reporting just label, show model's confidence score. This can help us decide in case of gender misclassification"
   ]
  },
  {
   "cell_type": "code",
   "execution_count": 1193,
   "metadata": {},
   "outputs": [
    {
     "name": "stdout",
     "output_type": "stream",
     "text": [
      "('Gender test accuracy:', 0.6190476190476191)\n",
      "(array([0.68390427, 0.31609573]), 1)\n",
      "(array([0.68974806, 0.31025194]), 0)\n",
      "(array([0.68500562, 0.31499438]), 1)\n",
      "(array([0.68634387, 0.31365613]), 0)\n",
      "(array([0.65061566, 0.34938434]), 1)\n",
      "(array([0.55734399, 0.44265601]), 1)\n",
      "(array([0.7734738, 0.2265262]), 1)\n",
      "(array([0.67698393, 0.32301607]), 0)\n",
      "(array([0.6724305, 0.3275695]), 1)\n",
      "(array([0.71805197, 0.28194803]), 0)\n",
      "(array([0.74711107, 0.25288893]), 1)\n",
      "(array([0.68475497, 0.31524503]), 0)\n",
      "(array([0.76718322, 0.23281678]), 0)\n",
      "(array([0.66820209, 0.33179791]), 0)\n",
      "(array([0.72051824, 0.27948176]), 0)\n",
      "(array([0.66275485, 0.33724515]), 0)\n",
      "(array([0.80011816, 0.19988184]), 1)\n",
      "(array([0.67741045, 0.32258955]), 1)\n",
      "(array([0.73041421, 0.26958579]), 0)\n",
      "(array([0.61357665, 0.38642335]), 1)\n",
      "(array([0.72724355, 0.27275645]), 0)\n",
      "()\n",
      "('Msi test accuracy:', 1.0)\n",
      "(array([0.14827599, 0.85172401]), 1)\n",
      "(array([0.03930947, 0.96069053]), 1)\n",
      "(array([0.15016489, 0.84983511]), 1)\n",
      "(array([0.08736752, 0.91263248]), 1)\n",
      "(array([0.59885239, 0.40114761]), 0)\n",
      "(array([0.09023311, 0.90976689]), 1)\n",
      "(array([0.02803647, 0.97196353]), 1)\n",
      "(array([0.07657833, 0.92342167]), 1)\n",
      "(array([0.08845975, 0.91154025]), 1)\n",
      "(array([0.78154995, 0.21845005]), 0)\n",
      "(array([0.13682752, 0.86317248]), 1)\n",
      "(array([0.22778958, 0.77221042]), 1)\n",
      "(array([0.14728345, 0.85271655]), 1)\n",
      "(array([0.03860858, 0.96139142]), 1)\n",
      "(array([0.11078466, 0.88921534]), 1)\n",
      "(array([0.4691162, 0.5308838]), 0)\n",
      "(array([0.14040988, 0.85959012]), 1)\n",
      "(array([0.80235999, 0.19764001]), 0)\n",
      "(array([0.08516408, 0.91483592]), 1)\n",
      "(array([0.13313601, 0.86686399]), 1)\n",
      "(array([0.09330215, 0.90669785]), 1)\n"
     ]
    }
   ],
   "source": [
    "clf = SVC(C=100, kernel=\"rbf\", gamma=\"scale\", probability=True)\n",
    "#clf = RandomForestClassifier(n_estimators=100)\n",
    "\n",
    "x_train, x_test, y_train, y_test = train_test_split(x, y, test_size=0.3, shuffle=True, random_state=100)\n",
    "\n",
    "y_gender_train = lb.fit_transform(y_train.loc[:,\"gender\"]).ravel()\n",
    "y_gender_test = lb.fit_transform(y_test.loc[:,\"gender\"]).ravel()\n",
    "y_msi_train = lb.fit_transform(y_train.loc[:,\"msi\"]).ravel()\n",
    "y_msi_test = lb.fit_transform(y_test.loc[:,\"msi\"]).ravel()\n",
    "\n",
    "clf.fit(x_train, y_gender_train)\n",
    "y_gender_predict = clf.predict(x_test)\n",
    "print(\"Gender test accuracy:\", accuracy_score(y_gender_test, y_gender_predict))\n",
    "probs = clf.predict_proba(x_test)\n",
    "for i in range(len(probs)):\n",
    "    print(probs[i] , y_gender_test[i])\n",
    "print()\n",
    "\n",
    "clf.fit(x_train, y_msi_train)\n",
    "y_msi_predict = clf.predict(x_test)\n",
    "print(\"Msi test accuracy:\", accuracy_score(y_msi_test, y_msi_predict))\n",
    "probs = clf.predict_proba(x_test)\n",
    "for i in range(len(probs)):\n",
    "    print(probs[i], y_msi_test[i])"
   ]
  }
 ],
 "metadata": {
  "kernelspec": {
   "display_name": "Python 2",
   "language": "python",
   "name": "python2"
  },
  "language_info": {
   "codemirror_mode": {
    "name": "ipython",
    "version": 2
   },
   "file_extension": ".py",
   "mimetype": "text/x-python",
   "name": "python",
   "nbconvert_exporter": "python",
   "pygments_lexer": "ipython2",
   "version": "2.7.15"
  }
 },
 "nbformat": 4,
 "nbformat_minor": 2
}
