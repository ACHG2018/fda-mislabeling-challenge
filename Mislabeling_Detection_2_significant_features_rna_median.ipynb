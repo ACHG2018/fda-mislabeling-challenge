{
 "cells": [
  {
   "cell_type": "markdown",
   "metadata": {},
   "source": [
    "# Multi-omics Enabled Sample Mislabeling Correction Challenge"
   ]
  },
  {
   "cell_type": "markdown",
   "metadata": {},
   "source": [
    "This notebook is using various classifiers in an attempt to detect sample misclassifications\n",
    "\n",
    "Details about this challenge: https://precision.fda.gov/challenges"
   ]
  },
  {
   "cell_type": "markdown",
   "metadata": {},
   "source": [
    "## Solution Specifics\n",
    "* Models in this solution are trained on a subset of features selected based on high individual separation of msi and gender\n",
    "* Protein N/As are replaced with zeros\n",
    "* RNA N/As are replaced with median"
   ]
  },
  {
   "cell_type": "markdown",
   "metadata": {},
   "source": [
    "## Solution"
   ]
  },
  {
   "cell_type": "markdown",
   "metadata": {},
   "source": [
    "Import libraries"
   ]
  },
  {
   "cell_type": "code",
   "execution_count": 4,
   "metadata": {},
   "outputs": [],
   "source": [
    "import os\n",
    "import sys\n",
    "import getopt\n",
    "import re\n",
    "import pandas as pd\n",
    "from sklearn.model_selection import cross_val_score, GridSearchCV, cross_validate, train_test_split\n",
    "from sklearn.metrics import accuracy_score, classification_report\n",
    "from sklearn.ensemble import RandomForestClassifier, AdaBoostClassifier\n",
    "from sklearn.impute import SimpleImputer\n",
    "from sklearn.svm import SVC\n",
    "from sklearn.metrics import f1_score\n",
    "from sklearn import preprocessing\n",
    "from sklearn.neighbors import KNeighborsClassifier\n",
    "from sklearn.linear_model import LogisticRegression"
   ]
  },
  {
   "cell_type": "markdown",
   "metadata": {},
   "source": [
    "Load data"
   ]
  },
  {
   "cell_type": "code",
   "execution_count": 10,
   "metadata": {
    "scrolled": true
   },
   "outputs": [],
   "source": [
    "labels = pd.read_csv(\"challenge_data/train_cli_corrected.tsv\", sep=\"\\t\", index_col=\"sample\")\n",
    "prot = pd.read_csv(\"challenge_data/train_pro_corrected.tsv\", sep=\"\\t\")\n",
    "rna = pd.read_csv(\"challenge_data/train_rna_corrected.tsv\", sep=\"\\t\")\n",
    "# Transpose proteins matrix\n",
    "prot = prot.T\n",
    "rna = rna.T\n",
    "# Misclassification labels are not needed anymore, the data has been manually corrected according\n",
    "# to the misclassification labels\n",
    "#misClassified = pd.read_csv(\"challenge_data/sum_tab_1.csv\", sep=\",\")\n",
    "#misClassified_2 = pd.read_csv(\"challenge_data/sum_tab_2.csv\", sep=\",\")\n",
    "\n",
    "# What if missing values are not really missing values but missing genes (Y chrom for instance)\n",
    "prot = prot.fillna(0)\n",
    "#rna = rna.fillna(0)"
   ]
  },
  {
   "cell_type": "markdown",
   "metadata": {},
   "source": [
    "Filter for significant features"
   ]
  },
  {
   "cell_type": "code",
   "execution_count": 11,
   "metadata": {},
   "outputs": [],
   "source": [
    "significant_features = lines = [line.rstrip('\\n') for line in open('significant_genes.list')]\n",
    "prot = prot[significant_features]\n",
    "rna = rna[significant_features] \n",
    "\n",
    "rna = rna.fillna(rna.median())\n",
    "rna = rna.dropna(axis='columns')"
   ]
  },
  {
   "cell_type": "markdown",
   "metadata": {},
   "source": [
    "Delete the missing training rows"
   ]
  },
  {
   "cell_type": "code",
   "execution_count": 12,
   "metadata": {},
   "outputs": [],
   "source": [
    "prot = prot.drop(\"Training_2\")\n",
    "rna = rna.drop(\"Training_61\")\n",
    "labels_prot = labels.drop(\"Training_2\")\n",
    "labels_rna = labels.drop(\"Training_61\")"
   ]
  },
  {
   "cell_type": "markdown",
   "metadata": {},
   "source": [
    "## Explore Parameters"
   ]
  },
  {
   "cell_type": "markdown",
   "metadata": {},
   "source": [
    "Now, it's time to figure out the best parameters for each model"
   ]
  },
  {
   "cell_type": "code",
   "execution_count": 13,
   "metadata": {},
   "outputs": [],
   "source": [
    "gender_prot = labels_prot.loc[:,\"gender\"]\n",
    "msi_prot = labels_prot.loc[:,\"msi\"]\n",
    "gender_rna = labels_rna.loc[:,\"gender\"]\n",
    "msi_rna = labels_rna.loc[:,\"msi\"]"
   ]
  },
  {
   "cell_type": "code",
   "execution_count": 14,
   "metadata": {},
   "outputs": [],
   "source": [
    "def bestParams(x, y, clf, grid):\n",
    "    grid_search = GridSearchCV(clf, param_grid=grid, cv=10, iid=False)\n",
    "    grid_search.fit(x, y)\n",
    "    print(\"Tuned params:\", grid_search.best_params_)\n",
    "    print(\"Tuned best acc:\", grid_search.best_score_)\n",
    "    return grid_search.best_params_"
   ]
  },
  {
   "cell_type": "markdown",
   "metadata": {},
   "source": [
    "### Random Forest"
   ]
  },
  {
   "cell_type": "code",
   "execution_count": 15,
   "metadata": {},
   "outputs": [
    {
     "name": "stdout",
     "output_type": "stream",
     "text": [
      "Best params for gender\n",
      "('Tuned params:', {'n_estimators': 35, 'max_depth': 65})\n",
      "('Tuned best acc:', 0.8492063492063492)\n",
      "Best params for msi\n",
      "('Tuned params:', {'n_estimators': 25, 'max_depth': 40})\n",
      "('Tuned best acc:', 0.913888888888889)\n",
      "Best params for gender\n",
      "('Tuned params:', {'n_estimators': 55, 'max_depth': 75})\n",
      "('Tuned best acc:', 0.8202380952380951)\n",
      "Best params for msi\n",
      "('Tuned params:', {'n_estimators': 55, 'max_depth': 65})\n",
      "('Tuned best acc:', 0.9375)\n"
     ]
    }
   ],
   "source": [
    "grid = {\n",
    "    \"n_estimators\": range(25, 75, 5),\n",
    "    \"max_depth\": range(40, 80, 5)\n",
    "}\n",
    "\n",
    "print(\"Best params for gender\")\n",
    "random_forest_prot_gender = bestParams(prot, gender_prot, RandomForestClassifier(), grid)\n",
    "print(\"Best params for msi\")\n",
    "random_forest_prot_msi = bestParams(prot, msi_prot, RandomForestClassifier(), grid)\n",
    "\n",
    "print(\"Best params for gender\")\n",
    "random_forest_rna_gender = bestParams(rna, gender_rna, RandomForestClassifier(), grid)\n",
    "print(\"Best params for msi\")\n",
    "random_forest_rna_msi = bestParams(rna, msi_rna, RandomForestClassifier(), grid)"
   ]
  },
  {
   "cell_type": "markdown",
   "metadata": {},
   "source": [
    "### SVM"
   ]
  },
  {
   "cell_type": "code",
   "execution_count": 16,
   "metadata": {},
   "outputs": [
    {
     "name": "stdout",
     "output_type": "stream",
     "text": [
      "Best params for gender\n",
      "('Tuned params:', {'kernel': 'linear', 'C': 0.01, 'gamma': 'auto'})\n",
      "('Tuned best acc:', 0.7305555555555555)\n",
      "Best params for msi\n",
      "('Tuned params:', {'kernel': 'linear', 'C': 0.01, 'gamma': 'auto'})\n",
      "('Tuned best acc:', 0.9125)\n",
      "Best params for gender\n",
      "('Tuned params:', {'kernel': 'linear', 'C': 0.01, 'gamma': 'auto'})\n",
      "('Tuned best acc:', 0.7994047619047618)\n",
      "Best params for msi\n",
      "('Tuned params:', {'kernel': 'linear', 'C': 0.01, 'gamma': 'auto'})\n",
      "('Tuned best acc:', 0.975)\n"
     ]
    }
   ],
   "source": [
    "grid = {\n",
    "    \"C\": [pow(10,i) for i in range(-2,4)],\n",
    "    \"kernel\": [\"linear\", \"rbf\"],\n",
    "    \"gamma\": [\"auto\", \"scale\"]\n",
    "}\n",
    "print(\"Best params for gender\")\n",
    "svm_prot_gender = bestParams(prot, gender_prot, SVC(), grid)\n",
    "print(\"Best params for msi\")\n",
    "svm_prot_msi = bestParams(prot, msi_prot, SVC(), grid)\n",
    "\n",
    "print(\"Best params for gender\")\n",
    "svm_rna_gender = bestParams(rna, gender_rna, SVC(), grid)\n",
    "print(\"Best params for msi\")\n",
    "svm_rna_msi =  bestParams(rna, msi_rna, SVC(), grid)"
   ]
  },
  {
   "cell_type": "markdown",
   "metadata": {},
   "source": [
    "### KNN"
   ]
  },
  {
   "cell_type": "code",
   "execution_count": 17,
   "metadata": {},
   "outputs": [
    {
     "name": "stdout",
     "output_type": "stream",
     "text": [
      "Best params for gender\n",
      "('Tuned params:', {'n_neighbors': 3})\n",
      "('Tuned best acc:', 0.6980158730158731)\n",
      "Best params for msi\n",
      "('Tuned params:', {'n_neighbors': 3})\n",
      "('Tuned best acc:', 0.888888888888889)\n",
      "Best params for gender\n",
      "('Tuned params:', {'n_neighbors': 2})\n",
      "('Tuned best acc:', 0.7271825396825395)\n",
      "Best params for msi\n",
      "('Tuned params:', {'n_neighbors': 1})\n",
      "('Tuned best acc:', 0.925)\n"
     ]
    }
   ],
   "source": [
    "grid = {\n",
    "    \"n_neighbors\": range(1,20)\n",
    "}\n",
    "print(\"Best params for gender\")\n",
    "knn_prot_gender = bestParams(prot, gender_prot, KNeighborsClassifier(), grid)\n",
    "print(\"Best params for msi\")\n",
    "knn_prot_msi = bestParams(prot, msi_prot, KNeighborsClassifier(), grid)\n",
    "\n",
    "print(\"Best params for gender\")\n",
    "knn_rna_gender = bestParams(rna, gender_rna, KNeighborsClassifier(), grid)\n",
    "print(\"Best params for msi\")\n",
    "knn_rna_msi = bestParams(rna, msi_rna, KNeighborsClassifier(), grid)"
   ]
  },
  {
   "cell_type": "markdown",
   "metadata": {},
   "source": [
    "### ADA Boost"
   ]
  },
  {
   "cell_type": "code",
   "execution_count": 18,
   "metadata": {},
   "outputs": [
    {
     "name": "stdout",
     "output_type": "stream",
     "text": [
      "Best params for gender\n",
      "('Tuned params:', {'n_estimators': 45})\n",
      "('Tuned best acc:', 0.9107142857142858)\n",
      "Best params for msi\n",
      "('Tuned params:', {'n_estimators': 50})\n",
      "('Tuned best acc:', 0.8621031746031746)\n",
      "Best params for gender\n",
      "('Tuned params:', {'n_estimators': 40})\n",
      "('Tuned best acc:', 0.8259920634920634)\n",
      "Best params for msi\n",
      "('Tuned params:', {'n_estimators': 50})\n",
      "('Tuned best acc:', 0.925)\n"
     ]
    }
   ],
   "source": [
    "grid = {\n",
    "    \"n_estimators\": range(40, 60, 5)\n",
    "}\n",
    "print(\"Best params for gender\")\n",
    "ada_prot_gender = bestParams(prot, gender_prot, AdaBoostClassifier(), grid)\n",
    "print(\"Best params for msi\")\n",
    "ada_prot_msi = bestParams(prot, msi_prot, AdaBoostClassifier(), grid)\n",
    "\n",
    "print(\"Best params for gender\")\n",
    "ada_rna_gender = bestParams(rna, gender_rna, AdaBoostClassifier(), grid)\n",
    "print(\"Best params for msi\")\n",
    "ada_rna_msi = bestParams(rna, msi_rna, AdaBoostClassifier(), grid)"
   ]
  },
  {
   "cell_type": "markdown",
   "metadata": {},
   "source": [
    "## Final Classification"
   ]
  },
  {
   "cell_type": "markdown",
   "metadata": {},
   "source": [
    "Train all classifiers with best parameters (discovered by grid search) and run them on the test set.\n",
    "Each time, use a different subset (80%) to give each model slightly different data to reduce overfitting"
   ]
  },
  {
   "cell_type": "code",
   "execution_count": 19,
   "metadata": {},
   "outputs": [],
   "source": [
    "def finalPredict(x_train, y_train, x_test, y_test, clf):\n",
    "    x_train_subset, a, y_train_subset, b = train_test_split(x_train, y_train, test_size=0.2, shuffle=True)\n",
    "    clf.fit(x_train_subset, y_train_subset)\n",
    "    y_predict = clf.predict(x_test)\n",
    "    print(\"Test accuracy:\", accuracy_score(y_test, y_predict))\n",
    "    return y_predict"
   ]
  },
  {
   "cell_type": "code",
   "execution_count": 20,
   "metadata": {},
   "outputs": [],
   "source": [
    "def createPredictions(train_features, train_gender, train_msi, test_features, test_gender, test_msi, best_params):\n",
    "    predictions =  [None] * 8\n",
    "\n",
    "    predictions[0] = finalPredict(train_features, train_gender, test_features, test_gender, \n",
    "                                       RandomForestClassifier(n_estimators = best_params[\"random_forest_gender\"][\"n_estimators\"],\n",
    "                                                              max_depth = best_params[\"random_forest_gender\"][\"max_depth\"]))\n",
    "    predictions[4] = finalPredict(train_features, train_msi, test_features, test_msi, \n",
    "                                       RandomForestClassifier(n_estimators = best_params[\"random_forest_msi\"][\"n_estimators\"],\n",
    "                                                              max_depth = best_params[\"random_forest_msi\"][\"max_depth\"]))\n",
    "\n",
    "    predictions[1] = finalPredict(train_features, train_gender, test_features, test_gender, \n",
    "                                       SVC(C=best_params[\"svm_gender\"][\"C\"], \n",
    "                                           kernel=best_params[\"svm_gender\"][\"kernel\"], \n",
    "                                           gamma=best_params[\"svm_gender\"][\"gamma\"]))\n",
    "    predictions[5] = finalPredict(train_features, train_msi, test_features, test_msi, \n",
    "                                       SVC(C=best_params[\"svm_msi\"][\"C\"], \n",
    "                                           kernel=best_params[\"svm_msi\"][\"kernel\"], \n",
    "                                           gamma=best_params[\"svm_msi\"][\"gamma\"]))\n",
    "\n",
    "    predictions[2] = finalPredict(train_features, train_gender, test_features, test_gender, \n",
    "                                       KNeighborsClassifier(n_neighbors=best_params[\"knn_gender\"][\"n_neighbors\"]))\n",
    "    predictions[6] = finalPredict(train_features, train_msi, test_features, test_msi, \n",
    "                                       KNeighborsClassifier(n_neighbors=best_params[\"knn_msi\"][\"n_neighbors\"]))\n",
    "\n",
    "    predictions[3] = finalPredict(train_features, train_gender, test_features, test_gender, \n",
    "                                       AdaBoostClassifier(n_estimators = best_params[\"ada_gender\"][\"n_estimators\"]))\n",
    "    predictions[7] = finalPredict(train_features, train_msi, test_features, test_msi, \n",
    "                                       AdaBoostClassifier(n_estimators = best_params[\"ada_msi\"][\"n_estimators\"]))\n",
    "    \n",
    "    return predictions"
   ]
  },
  {
   "cell_type": "markdown",
   "metadata": {},
   "source": [
    "Protein models"
   ]
  },
  {
   "cell_type": "code",
   "execution_count": 25,
   "metadata": {},
   "outputs": [
    {
     "name": "stdout",
     "output_type": "stream",
     "text": [
      "('Test accuracy:', 0.5125)\n",
      "('Test accuracy:', 0.7875)\n",
      "('Test accuracy:', 0.5125)\n",
      "('Test accuracy:', 0.825)\n",
      "('Test accuracy:', 0.4125)\n",
      "('Test accuracy:', 0.825)\n",
      "('Test accuracy:', 0.75)\n",
      "('Test accuracy:', 0.7875)\n"
     ]
    }
   ],
   "source": [
    "# Load test data in the same way train data was loaded\n",
    "labels_test = pd.read_csv(\"challenge_data/test_cli.tsv\", sep=\"\\t\", index_col=\"sample\")\n",
    "proteins_test = pd.read_csv(\"challenge_data/test_pro.tsv\", sep=\"\\t\")\n",
    "proteins_test = proteins_test.T\n",
    "proteins_test = proteins_test.fillna(0)\n",
    "proteins_test = proteins_test[significant_features]\n",
    "\n",
    "gender_test = labels_test.loc[:,\"gender\"]\n",
    "msi_test = labels_test.loc[:,\"msi\"]\n",
    "best_params = {\"random_forest_gender\": random_forest_prot_gender, \"random_forest_msi\": random_forest_prot_msi,\n",
    "               \"svm_gender\": svm_prot_gender, \"svm_msi\": svm_prot_msi, \"knn_gender\": knn_prot_gender,\n",
    "               \"knn_msi\": knn_prot_msi, \"ada_gender\": ada_prot_gender, \"ada_msi\": ada_prot_msi}\n",
    "\n",
    "predictions_prot = createPredictions(prot, gender_prot, msi_prot, proteins_test, gender_test, msi_test, best_params)"
   ]
  },
  {
   "cell_type": "markdown",
   "metadata": {},
   "source": [
    "RNA models"
   ]
  },
  {
   "cell_type": "code",
   "execution_count": 26,
   "metadata": {},
   "outputs": [
    {
     "name": "stdout",
     "output_type": "stream",
     "text": [
      "('Test accuracy:', 0.3625)\n",
      "('Test accuracy:', 0.9125)\n",
      "('Test accuracy:', 0.4625)\n",
      "('Test accuracy:', 0.8875)\n",
      "('Test accuracy:', 0.4125)\n",
      "('Test accuracy:', 0.925)\n",
      "('Test accuracy:', 0.525)\n",
      "('Test accuracy:', 0.9125)\n"
     ]
    }
   ],
   "source": [
    "# Load test data in the same way train data was loaded\n",
    "labels_test = pd.read_csv(\"challenge_data/test_cli.tsv\", sep=\"\\t\", index_col=\"sample\")\n",
    "rna_test = pd.read_csv(\"challenge_data/test_rna.tsv\", sep=\"\\t\")\n",
    "rna_test = rna_test.T\n",
    "rna_test = rna_test[significant_features]\n",
    "rna_test = rna_test.fillna(rna_test.median())\n",
    "rna_test = rna_test.dropna(axis='columns')\n",
    "\n",
    "gender_test = labels_test.loc[:,\"gender\"]\n",
    "msi_test = labels_test.loc[:,\"msi\"]\n",
    "best_params = {\"random_forest_gender\": random_forest_rna_gender, \"random_forest_msi\": random_forest_rna_msi,\n",
    "               \"svm_gender\": svm_rna_gender, \"svm_msi\": svm_rna_msi, \"knn_gender\": knn_rna_gender,\n",
    "               \"knn_msi\": knn_rna_msi, \"ada_gender\": ada_rna_gender, \"ada_msi\": ada_rna_msi}\n",
    "\n",
    "predictions_rna = createPredictions(rna, gender_rna, msi_rna, rna_test, gender_test, msi_test, best_params)"
   ]
  },
  {
   "cell_type": "markdown",
   "metadata": {},
   "source": [
    "Save separate predictions for rna and proteins, with a probability of mislabeling"
   ]
  },
  {
   "cell_type": "code",
   "execution_count": 19,
   "metadata": {},
   "outputs": [],
   "source": [
    "def writeSingleOutput(predictions, extenstiveName):\n",
    "\n",
    "\n",
    "    extensiveOut = open(extenstiveName,\"w+\")\n",
    "    names = list(labels_test.index)\n",
    "\n",
    "    extensiveOut.write(\"sample,Test_gender,Test_msi, RandomForest_gender,SVM_gender,KNN_gender,ADA_gender,RandomForest_msi,SVM_msi,KNN_msi,ADA_msi,gender_mislabeled_prob,msi_mislabeld_prob,mislabeled_prob\\n\")\n",
    "\n",
    "    for i in range(len(predictions[0])):\n",
    "        gender_mislabeled = 0\n",
    "        msi_mislabeled = 0\n",
    "\n",
    "        for j in range(0,4):\n",
    "            if (predictions[j][i] != labels_test.iloc[i,0]):\n",
    "                gender_mislabeled += 1\n",
    "\n",
    "        for j in range(4,8):\n",
    "            if (predictions[j][i] != labels_test.iloc[i,1]):\n",
    "                msi_mislabeled += 1\n",
    "\n",
    "        msi_mislabeled /= 4.0\n",
    "        gender_mislabeled /= 4.0\n",
    "\n",
    "        mislabeled = gender_mislabeled\n",
    "        if (msi_mislabeled > mislabeled):\n",
    "            mislabeled = msi_mislabeled\n",
    "\n",
    "        extensiveOut.write(names[i] + \",\" + labels_test.iloc[i,0] + \",\" + labels_test.iloc[i,1])\n",
    "        for j in range(len(predictions)):\n",
    "            extensiveOut.write(\",\" + predictions[j][i])\n",
    "        extensiveOut.write(\", \" + str(gender_mislabeled) + \",\" + str(msi_mislabeled) + \",\" + str(mislabeled))\n",
    "        extensiveOut.write(\"\\n\")\n",
    "\n",
    "    extensiveOut.close()\n"
   ]
  },
  {
   "cell_type": "code",
   "execution_count": 20,
   "metadata": {},
   "outputs": [],
   "source": [
    "writeSingleOutput(predictions_prot, \"results/extensive_prot_significant_features_rna_median.csv\")"
   ]
  },
  {
   "cell_type": "code",
   "execution_count": 21,
   "metadata": {},
   "outputs": [],
   "source": [
    "writeSingleOutput(predictions_rna, \"results/extensive_rna_significant_features_rna_median.csv\")"
   ]
  }
 ],
 "metadata": {
  "kernelspec": {
   "display_name": "Python 2",
   "language": "python",
   "name": "python2"
  },
  "language_info": {
   "codemirror_mode": {
    "name": "ipython",
    "version": 2
   },
   "file_extension": ".py",
   "mimetype": "text/x-python",
   "name": "python",
   "nbconvert_exporter": "python",
   "pygments_lexer": "ipython2",
   "version": "2.7.15"
  }
 },
 "nbformat": 4,
 "nbformat_minor": 2
}
